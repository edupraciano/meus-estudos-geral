{
 "cells": [
  {
   "cell_type": "code",
   "execution_count": 21,
   "metadata": {},
   "outputs": [
    {
     "name": "stdout",
     "output_type": "stream",
     "text": [
      "O primeiro termo da PA é: 1\n",
      "Essa PA terá: 10 termos.\n",
      "A razão desta PA é: 2\n",
      "Então com estes dados, a P.A. fica assim:\n",
      "\n",
      "1 -> 3 -> 5 -> 7 -> 9 -> 11 -> 13 -> 15 -> 17 -> 19 -> PAUSA\n",
      "O primeiro termo da PA é: 1\n",
      "Essa PA terá: 5 termos.\n",
      "A razão desta PA é: 2\n",
      "Então com estes dados, a P.A. fica assim:\n",
      "\n",
      "PAUSA\n",
      "O primeiro termo da PA é: 1\n",
      "Essa PA terá: 4 termos.\n",
      "A razão desta PA é: 2\n",
      "Então com estes dados, a P.A. fica assim:\n",
      "\n",
      "PAUSA\n",
      "Fim do Programa.\n"
     ]
    }
   ],
   "source": [
    "\"\"\"\n",
    "Ex.62 Melhore o DESAFIO 61, perguntando para o usuário se ele quer mostrar mais alguns termos. O programa encerrará quando ele disser que quer mostrar 0 termos.\n",
    "\"\"\"\n",
    "# NÃO CONSEGUI FAZER!!!!!!!!\n",
    "# ESTÁ INCOMPLETO ESTA SOLUÇÃO \n",
    "\n",
    "primeiro = int(input('Digite o primeiro termo da PA: '))\n",
    "razao = int(input('Digite a razão da PA: '))\n",
    "\n",
    "termo = primeiro\n",
    "cont = 1\n",
    "\n",
    "while True:\n",
    "    qtdeTermo = int(input('Quantos termos você quer mostrar? (0 para encerrar) '))\n",
    "    if qtdeTermo == 0:\n",
    "        print('Fim do Programa.')\n",
    "        break  # Sai do loop se o usuário escolher mostrar 0 termos.\n",
    "    else:\n",
    "        print(f'O primeiro termo da PA é: {primeiro}')\n",
    "        print(f'Essa PA terá: {qtdeTermo} termos.')\n",
    "        print(f'A razão desta PA é: {razao}')\n",
    "        print('Então com estes dados, a P.A. fica assim:')\n",
    "        print('')\n",
    "\n",
    "        while cont <= qtdeTermo:\n",
    "            print(termo, end=' -> ')\n",
    "            termo += razao\n",
    "            cont += 1\n",
    "\n",
    "        print('PAUSA')\n",
    "\n"
   ]
  }
 ],
 "metadata": {
  "kernelspec": {
   "display_name": "base",
   "language": "python",
   "name": "python3"
  },
  "language_info": {
   "codemirror_mode": {
    "name": "ipython",
    "version": 3
   },
   "file_extension": ".py",
   "mimetype": "text/x-python",
   "name": "python",
   "nbconvert_exporter": "python",
   "pygments_lexer": "ipython3",
   "version": "3.11.5"
  }
 },
 "nbformat": 4,
 "nbformat_minor": 2
}
