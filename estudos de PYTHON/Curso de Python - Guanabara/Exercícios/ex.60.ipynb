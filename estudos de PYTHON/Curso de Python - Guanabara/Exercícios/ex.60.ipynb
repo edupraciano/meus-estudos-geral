{
 "cells": [
  {
   "cell_type": "code",
   "execution_count": 24,
   "metadata": {},
   "outputs": [
    {
     "name": "stdout",
     "output_type": "stream",
     "text": [
      "Calculando 4 ! =  4 X 3 X 2 X 1 = 24\n"
     ]
    }
   ],
   "source": [
    "\"\"\"\n",
    "Ex.60 Faça um programa que leia um número qualquer e mostre o seu fatorial. Exemplo:\n",
    "5! = 5 x 4 x 3 x 2 x 1 = 120\n",
    "\"\"\"\n",
    "n = int(input('Digite um número para calcular seu fatorial.'))\n",
    "c = n\n",
    "fatorial = 1\n",
    "print('Calculando {} ! = '.format(n), end=' ')\n",
    "while c > 0:\n",
    "    print('{}'.format(c), end=' ')\n",
    "    print('X' if c > 1 else '=' , end=' ')\n",
    "    fatorial *= c\n",
    "    c -= 1\n",
    "print(fatorial)"
   ]
  },
  {
   "cell_type": "code",
   "execution_count": null,
   "metadata": {},
   "outputs": [],
   "source": []
  }
 ],
 "metadata": {
  "kernelspec": {
   "display_name": "base",
   "language": "python",
   "name": "python3"
  },
  "language_info": {
   "codemirror_mode": {
    "name": "ipython",
    "version": 3
   },
   "file_extension": ".py",
   "mimetype": "text/x-python",
   "name": "python",
   "nbconvert_exporter": "python",
   "pygments_lexer": "ipython3",
   "version": "3.11.5"
  }
 },
 "nbformat": 4,
 "nbformat_minor": 2
}
