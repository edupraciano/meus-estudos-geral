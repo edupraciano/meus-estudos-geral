{
 "cells": [
  {
   "cell_type": "code",
   "execution_count": 4,
   "metadata": {},
   "outputs": [
    {
     "name": "stdout",
     "output_type": "stream",
     "text": [
      "O Salário inicialmente era R$ 100.0, com um aumento de 15%, \n",
      "o novo salário  passa a ser R$ 115.0 o que representa R$ 15.0 de aumento.\n"
     ]
    }
   ],
   "source": [
    "# Ex.13\n",
    "# Faça um algoritmo que leia o salário de um funcionário e mostre seu novo salário, com 15% de aumento\n",
    "\n",
    "salario = float(input('Digite o salário do funcionário'))\n",
    "valorDoAumento = salario * 0.15\n",
    "novoSalario = salario + valorDoAumento\n",
    "\n",
    "print('O Salário inicialmente era R$ {}, com um aumento de 15%, \\no novo salário  passa a ser R$ {} o que representa R$ {} de aumento.'.format(salario, novoSalario, valorDoAumento ))\n",
    "\n",
    "\n"
   ]
  }
 ],
 "metadata": {
  "kernelspec": {
   "display_name": "base",
   "language": "python",
   "name": "python3"
  },
  "language_info": {
   "codemirror_mode": {
    "name": "ipython",
    "version": 3
   },
   "file_extension": ".py",
   "mimetype": "text/x-python",
   "name": "python",
   "nbconvert_exporter": "python",
   "pygments_lexer": "ipython3",
   "version": "3.11.5"
  }
 },
 "nbformat": 4,
 "nbformat_minor": 2
}
