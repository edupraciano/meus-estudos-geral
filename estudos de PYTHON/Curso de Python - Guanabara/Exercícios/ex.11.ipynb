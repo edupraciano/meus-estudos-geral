{
 "cells": [
  {
   "cell_type": "code",
   "execution_count": 5,
   "metadata": {},
   "outputs": [
    {
     "name": "stdout",
     "output_type": "stream",
     "text": [
      "Para essas dimensões, a área da parede tem 56.02m² e serão necessários 28.0 litros de tinta\n"
     ]
    }
   ],
   "source": [
    "# Ex.11\n",
    "# Faça um programa que leia a largura e a altura de uma parede em metros, calcule a sua área e a quantidade de tinta necessária para pintá-la, sabendo que cada litro de tinta pinta uma área de 2m²\n",
    "\n",
    "largura = float(input('Qual a largura da parede?'))\n",
    "altura = float(input('Qual a altura da parede?'))\n",
    "area = altura * largura\n",
    "litros = area / 2\n",
    "\n",
    "print('A área da parede tem {}2m² e serão necessários {} litros de tinta.'.format(area, litros))\n",
    "\n",
    "\n",
    "\n",
    "\n",
    "\n"
   ]
  }
 ],
 "metadata": {
  "kernelspec": {
   "display_name": "base",
   "language": "python",
   "name": "python3"
  },
  "language_info": {
   "codemirror_mode": {
    "name": "ipython",
    "version": 3
   },
   "file_extension": ".py",
   "mimetype": "text/x-python",
   "name": "python",
   "nbconvert_exporter": "python",
   "pygments_lexer": "ipython3",
   "version": "3.11.5"
  }
 },
 "nbformat": 4,
 "nbformat_minor": 2
}
