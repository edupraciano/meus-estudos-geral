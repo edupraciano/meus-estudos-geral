{
 "cells": [
  {
   "cell_type": "code",
   "execution_count": 9,
   "metadata": {},
   "outputs": [
    {
     "name": "stdout",
     "output_type": "stream",
     "text": [
      "O MAIOR peso foi 50.0\n",
      "O MENOR peso foi 70.0\n"
     ]
    }
   ],
   "source": [
    "\"\"\"\n",
    "Ex.55 Faça um programa que leia o peso de cinco pessoas.\n",
    "No final, mostre qual foi o maior e o menor peso lidos.\n",
    "\"\"\"\n",
    "maior = 0\n",
    "menor = 0\n",
    "for p in range(1, 6):\n",
    "    peso = float(input('Qual o peso da {} ª pessoa?'.format(p)))\n",
    "    if p == 1:\n",
    "        maior = peso\n",
    "        menor = peso\n",
    "    else:            \n",
    "        if p > maior:\n",
    "            maior = peso\n",
    "        if p < menor:\n",
    "            menor = peso\n",
    "print('O MAIOR peso foi {}'.format(maior))\n",
    "print('O MENOR peso foi {}'.format(menor))"
   ]
  },
  {
   "cell_type": "code",
   "execution_count": null,
   "metadata": {},
   "outputs": [],
   "source": []
  }
 ],
 "metadata": {
  "kernelspec": {
   "display_name": "base",
   "language": "python",
   "name": "python3"
  },
  "language_info": {
   "codemirror_mode": {
    "name": "ipython",
    "version": 3
   },
   "file_extension": ".py",
   "mimetype": "text/x-python",
   "name": "python",
   "nbconvert_exporter": "python",
   "pygments_lexer": "ipython3",
   "version": "3.11.5"
  }
 },
 "nbformat": 4,
 "nbformat_minor": 2
}
