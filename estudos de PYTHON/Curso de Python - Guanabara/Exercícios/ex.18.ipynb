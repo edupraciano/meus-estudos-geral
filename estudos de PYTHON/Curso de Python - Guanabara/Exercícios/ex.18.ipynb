{
 "cells": [
  {
   "cell_type": "code",
   "execution_count": 21,
   "metadata": {},
   "outputs": [
    {
     "name": "stdout",
     "output_type": "stream",
     "text": [
      "Para o angulo escolhido, \n",
      "0.00 é o seu seno, \n",
      "1.00 o seu cosseno e \n",
      "0.00 a sua tangente;\n"
     ]
    }
   ],
   "source": [
    "# Ex.18\n",
    "# Faça um programa que leia um ângulo qualquer e mostre na tela o valor do seno, cosseno e tangente desse ângulo.\n",
    "from math import sin, cos, tan, radians\n",
    "\n",
    "angulo = float(input('Digite o valor de um angulo entre 0 e 360º graus'))\n",
    "\n",
    "seno = sin(radians(angulo))\n",
    "cosseno = cos(radians(angulo))\n",
    "tangente = tan(radians(angulo))\n",
    "\n",
    "\n",
    "print('Para o angulo escolhido, \\n{:.2f} é o seu seno, \\n{:.2f} o seu cosseno e \\n{:.2f} a sua tangente;'.format(seno, cosseno, tangente))"
   ]
  }
 ],
 "metadata": {
  "kernelspec": {
   "display_name": "base",
   "language": "python",
   "name": "python3"
  },
  "language_info": {
   "codemirror_mode": {
    "name": "ipython",
    "version": 3
   },
   "file_extension": ".py",
   "mimetype": "text/x-python",
   "name": "python",
   "nbconvert_exporter": "python",
   "pygments_lexer": "ipython3",
   "version": "3.11.5"
  }
 },
 "nbformat": 4,
 "nbformat_minor": 2
}
