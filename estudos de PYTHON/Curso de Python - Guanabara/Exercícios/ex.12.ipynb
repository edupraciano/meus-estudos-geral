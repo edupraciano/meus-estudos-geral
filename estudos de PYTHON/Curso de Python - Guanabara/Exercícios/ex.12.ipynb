{
 "cells": [
  {
   "cell_type": "code",
   "execution_count": 3,
   "metadata": {},
   "outputs": [
    {
     "name": "stdout",
     "output_type": "stream",
     "text": [
      "O valor do produto inicialmente era R$ 100.0, com o desconto de 5%, \n",
      " o novo preço passa a ser R$ 95.0 o que representa R$ 5.0 de desconto.\n"
     ]
    }
   ],
   "source": [
    "# Ex.12\n",
    "# Faça um algoritmo que leia o preço de um produto e mostre seu novo preço, com 5% de desconto\n",
    "preço = float(input('Digite o preço do produto'))\n",
    "valorDoDesconto = preço * 0.05\n",
    "novoPreço = preço - valorDoDesconto\n",
    "\n",
    "print('O valor do produto inicialmente era R$ {}, com o desconto de 5%, \\no novo preço passa a ser R$ {} o que representa R$ {} de desconto.'.format(preço, novoPreço, valorDoDesconto ))\n",
    "\n"
   ]
  }
 ],
 "metadata": {
  "kernelspec": {
   "display_name": "base",
   "language": "python",
   "name": "python3"
  },
  "language_info": {
   "codemirror_mode": {
    "name": "ipython",
    "version": 3
   },
   "file_extension": ".py",
   "mimetype": "text/x-python",
   "name": "python",
   "nbconvert_exporter": "python",
   "pygments_lexer": "ipython3",
   "version": "3.11.5"
  }
 },
 "nbformat": 4,
 "nbformat_minor": 2
}
