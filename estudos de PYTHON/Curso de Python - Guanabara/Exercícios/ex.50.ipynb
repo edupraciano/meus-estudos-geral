{
 "cells": [
  {
   "cell_type": "code",
   "execution_count": 16,
   "metadata": {},
   "outputs": [
    {
     "name": "stdout",
     "output_type": "stream",
     "text": [
      "Você informou 3 némeros pares e a soma é: 20\n"
     ]
    }
   ],
   "source": [
    "\"\"\"\n",
    "Ex.50 Desenvolva um programa que leia seis números inteiros e mostre a soma apenas daqueles que forem pares. Se o valor digitado for ímpar, desconsidere-o.\n",
    "\"\"\"\n",
    "soma = 0\n",
    "cont = 0\n",
    "for i in range(1, 7):\n",
    "    n = int(input(\"Digite o {} valor:\".format(i)))\n",
    "    if n % 2 == 0:\n",
    "        soma += n\n",
    "        cont += 1\n",
    "print(\"Você informou {} números pares e a soma é: {}\".format(cont, soma))"
   ]
  }
 ],
 "metadata": {
  "kernelspec": {
   "display_name": "base",
   "language": "python",
   "name": "python3"
  },
  "language_info": {
   "codemirror_mode": {
    "name": "ipython",
    "version": 3
   },
   "file_extension": ".py",
   "mimetype": "text/x-python",
   "name": "python",
   "nbconvert_exporter": "python",
   "pygments_lexer": "ipython3",
   "version": "3.11.5"
  }
 },
 "nbformat": 4,
 "nbformat_minor": 2
}
