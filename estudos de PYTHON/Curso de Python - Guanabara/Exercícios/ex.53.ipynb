{
 "cells": [
  {
   "cell_type": "code",
   "execution_count": 2,
   "metadata": {},
   "outputs": [
    {
     "name": "stdout",
     "output_type": "stream",
     "text": [
      "A frase é um palíndromo.\n"
     ]
    }
   ],
   "source": [
    "\"\"\"\n",
    "Ex.53 Crie um programa que leia uma frase qualquer e diga se ela é um palíndromo, desconsiderando os espaços. Exemplos de palíndromos: APOS A SOPA, A SACADA DA CASA, A TORRE DA DERROTA, O LOBO AMA O BOLO, ANOTARAM A DATA DA MARATONA.\n",
    "\"\"\"\n",
    "frase = input(\"Digite uma frase: \").lower()  # Converter para minúsculas para ignorar diferenças de maiúsculas/minúsculas\n",
    "frase_sem_espacos = frase.replace(\" \", \"\")  # Remover espaços em branco\n",
    "\n",
    "if frase_sem_espacos == frase_sem_espacos[::-1]:\n",
    "    print(\"A frase é um palíndromo.\")\n",
    "else:\n",
    "    print(\"A frase não é um palíndromo.\")\n"
   ]
  },
  {
   "cell_type": "code",
   "execution_count": null,
   "metadata": {},
   "outputs": [],
   "source": []
  }
 ],
 "metadata": {
  "kernelspec": {
   "display_name": "base",
   "language": "python",
   "name": "python3"
  },
  "language_info": {
   "codemirror_mode": {
    "name": "ipython",
    "version": 3
   },
   "file_extension": ".py",
   "mimetype": "text/x-python",
   "name": "python",
   "nbconvert_exporter": "python",
   "pygments_lexer": "ipython3",
   "version": "3.11.5"
  }
 },
 "nbformat": 4,
 "nbformat_minor": 2
}
