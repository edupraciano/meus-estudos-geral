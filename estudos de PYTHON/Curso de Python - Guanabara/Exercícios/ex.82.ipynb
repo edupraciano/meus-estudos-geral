{
 "cells": [
  {
   "cell_type": "code",
   "execution_count": 8,
   "metadata": {},
   "outputs": [
    {
     "name": "stdout",
     "output_type": "stream",
     "text": [
      "A lista original é: [6, 7, 6, 9, 2, 3, 4].\n",
      "A lista com os números pares é: [6, 6, 2, 4].\n",
      "A lista com os números impares é: [7, 9, 3].\n"
     ]
    }
   ],
   "source": [
    "\"\"\"\n",
    "Ex.82 Crie um programa que vai ler vários números e colocar em uma lista. Depois disso, crie duas listas extras que vão conter apenas os valores pares e os valores ímpares digitados, respectivamente. Ao final, mostre o conteúdo das três listas geradas.\n",
    "\"\"\"\n",
    "lista = []\n",
    "pares = []\n",
    "impares = []\n",
    "while True:\n",
    "    entrada = input('Digite um número')\n",
    "\n",
    "    if entrada.isdigit():  # => Verifica se a entrada é um número\n",
    "        num = int(entrada)\n",
    "        lista.append(num)\n",
    "        if num % 2 == 0:\n",
    "            pares.append(num)\n",
    "        else:\n",
    "            impares.append(num)\n",
    "\n",
    "    else:\n",
    "        print('Entrada inválida, digite um número.')\n",
    "\n",
    "    sair = ''\n",
    "    while sair not in ['S', 'N']:\n",
    "        sair = str(input('Deseja SAIR? [S/N]')).strip().upper()[0]\n",
    "        if sair not in ['S', 'N']:\n",
    "             print('Entrada inválida. Por favor, digite S ou N.')\n",
    "\n",
    "    if sair == 'S':\n",
    "        break\n",
    "  \n",
    "print(f'A lista original é: {lista}.')\n",
    "print(f'A lista com os números pares é: {pares}.')\n",
    "print(f'A lista com os números impares é: {impares}.')\n",
    "\n"
   ]
  },
  {
   "cell_type": "markdown",
   "metadata": {},
   "source": []
  }
 ],
 "metadata": {
  "kernelspec": {
   "display_name": "base",
   "language": "python",
   "name": "python3"
  },
  "language_info": {
   "codemirror_mode": {
    "name": "ipython",
    "version": 3
   },
   "file_extension": ".py",
   "mimetype": "text/x-python",
   "name": "python",
   "nbconvert_exporter": "python",
   "pygments_lexer": "ipython3",
   "version": "3.11.5"
  }
 },
 "nbformat": 4,
 "nbformat_minor": 2
}
