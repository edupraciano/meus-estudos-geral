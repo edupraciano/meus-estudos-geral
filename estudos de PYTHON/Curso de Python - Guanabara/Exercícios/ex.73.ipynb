{
 "cells": [
  {
   "cell_type": "code",
   "execution_count": 29,
   "metadata": {},
   "outputs": [
    {
     "name": "stdout",
     "output_type": "stream",
     "text": [
      "Os cinco primeiros colocados são: ('Botafogo', 'Palmeiras', 'Bragantino', 'Grêmio', 'Atlético-MG')\n",
      "\n",
      "Os últimos quatro colocados são: ('Cruzeiro', 'Goiás', 'Coritiba', 'América-MG')\n",
      "\n",
      "Os times na ordem alfabética são: ['América-MG', 'Atlético-MG', 'Atlético-PR', 'Bahia', 'Botafogo', 'Bragantino', 'Corinthians', 'Coritiba', 'Cruzeiro', 'Cuiabá', 'Flamengo', 'Fluminense', 'Fortaleza', 'Goiás', 'Grêmio', 'Internacional', 'Palmeiras', 'Santos', 'São Paulo', 'Vasco']\n",
      "\n",
      "O time do Internacional está na 11ª posição. \n"
     ]
    }
   ],
   "source": [
    "\"\"\"\n",
    "Ex.73 Crie uma tupla preenchida com os 20 primeiros colocados da Tabela do Campeonato Brasileiro de Futebol, na ordem de colocação. Depois mostre:\n",
    "a) Os 5 primeiros times.\n",
    "b) Os últimos 4 colocados.\n",
    "c) Times em ordem alfabética.\n",
    "d) Em que posição está o time da Internacional.\n",
    "\"\"\"\n",
    "colocação = ('Botafogo', 'Palmeiras','Bragantino', 'Grêmio', 'Atlético-MG', 'Flamengo', 'Atlético-PR',\n",
    "'Fluminense', 'Fortaleza', 'São Paulo', 'Internacional', 'Cuiabá', 'Corinthians', 'Santos',\n",
    "'Bahia', 'Vasco', 'Cruzeiro', 'Goiás', 'Coritiba', 'América-MG')\n",
    "\n",
    "print(f'Os cinco primeiros colocados são: {colocação[:5]}\\n')\n",
    "print(f'Os últimos quatro colocados são: {colocação[-4:]}\\n')\n",
    "print(f'Os times na ordem alfabética são: {sorted(colocação)}\\n')\n",
    "print(f'O time do Internacional está na {colocação.index(\"Internacional\") + 1}ª posição. ')\n"
   ]
  }
 ],
 "metadata": {
  "kernelspec": {
   "display_name": "base",
   "language": "python",
   "name": "python3"
  },
  "language_info": {
   "codemirror_mode": {
    "name": "ipython",
    "version": 3
   },
   "file_extension": ".py",
   "mimetype": "text/x-python",
   "name": "python",
   "nbconvert_exporter": "python",
   "pygments_lexer": "ipython3",
   "version": "3.11.5"
  }
 },
 "nbformat": 4,
 "nbformat_minor": 2
}
