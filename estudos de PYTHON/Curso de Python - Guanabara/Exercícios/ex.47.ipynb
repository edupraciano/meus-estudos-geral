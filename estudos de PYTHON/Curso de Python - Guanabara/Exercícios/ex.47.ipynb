{
 "cells": [
  {
   "cell_type": "code",
   "execution_count": 8,
   "metadata": {},
   "outputs": [
    {
     "name": "stdout",
     "output_type": "stream",
     "text": [
      "2 4 6 8 10 12 14 16 18 20 22 24 26 28 30 32 34 36 38 40 42 44 46 48 50 Acabou!\n"
     ]
    }
   ],
   "source": [
    "\"\"\"\n",
    "Ex.47 Crie um programa que mostre na tela todos os números pares que estão no intervalo entre 1 e 50.\n",
    "\"\"\"\n",
    "for i in range(2, 51):\n",
    "    if i % 2 == 0:\n",
    "        print(i, end=' ')\n",
    "print('Acabou!')\n",
    "\n",
    "# Outra Maneira:\n",
    "\n",
    "for i in range(2, 51, 2):\n",
    "    print(i, end=' ')\n",
    "print('Acabou!')"
   ]
  }
 ],
 "metadata": {
  "kernelspec": {
   "display_name": "base",
   "language": "python",
   "name": "python3"
  },
  "language_info": {
   "codemirror_mode": {
    "name": "ipython",
    "version": 3
   },
   "file_extension": ".py",
   "mimetype": "text/x-python",
   "name": "python",
   "nbconvert_exporter": "python",
   "pygments_lexer": "ipython3",
   "version": "3.11.5"
  }
 },
 "nbformat": 4,
 "nbformat_minor": 2
}
