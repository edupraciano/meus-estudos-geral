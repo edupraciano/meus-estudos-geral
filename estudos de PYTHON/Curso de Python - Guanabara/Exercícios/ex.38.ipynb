{
 "cells": [
  {
   "cell_type": "code",
   "execution_count": 3,
   "metadata": {},
   "outputs": [
    {
     "name": "stdout",
     "output_type": "stream",
     "text": [
      "Os dois valores escolhidos são iguais.\n"
     ]
    }
   ],
   "source": [
    "'''\n",
    "Ex.38 Escreva um programa que leia dois números inteiros e compare-os,\n",
    "mostrando na tela uma mensagem:\n",
    "- o primeiro valor é maior\n",
    "- o segundo valor é maior\n",
    "- não existe valor maior; os dois são iguais\n",
    "'''\n",
    "n1 = int(input('Digite o primeiro valor inteiro.'))\n",
    "n2 = int(input('Digite o segundo valor inteiro.'))\n",
    "\n",
    "if n1 > n2:\n",
    "    print('O primeiro valor é maior. {} > {}'.format(n1, n2))\n",
    "elif n2 > n1:\n",
    "     print('O segundo valor é maior. {} > {}'.format(n2, n1))\n",
    "else:\n",
    "    print('Os dois valores escolhidos são iguais.')"
   ]
  }
 ],
 "metadata": {
  "kernelspec": {
   "display_name": "base",
   "language": "python",
   "name": "python3"
  },
  "language_info": {
   "codemirror_mode": {
    "name": "ipython",
    "version": 3
   },
   "file_extension": ".py",
   "mimetype": "text/x-python",
   "name": "python",
   "nbconvert_exporter": "python",
   "pygments_lexer": "ipython3",
   "version": "3.11.5"
  }
 },
 "nbformat": 4,
 "nbformat_minor": 2
}
