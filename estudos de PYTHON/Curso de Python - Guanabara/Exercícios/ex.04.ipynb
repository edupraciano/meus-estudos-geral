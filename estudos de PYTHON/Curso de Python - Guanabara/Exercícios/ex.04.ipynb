{
 "cells": [
  {
   "cell_type": "code",
   "execution_count": 16,
   "metadata": {},
   "outputs": [
    {
     "name": "stdout",
     "output_type": "stream",
     "text": [
      "O tipo primitivo para essa entrada é: <class 'str'>\n",
      "É alfanumérico? True\n",
      "É decima? False\n",
      "Está em caixa baixa? True\n",
      "Está em caixa alta? False\n",
      "Tem apenas espaços em branco? False\n"
     ]
    }
   ],
   "source": [
    "# Ex.04\n",
    "# Faça um programa que leia algo pelo teclado \n",
    "# e mostre na tela o seu tipo primitivo \n",
    "# e todas as informações possíveis sobre ele\n",
    "entrada = input('Digite algo')\n",
    "\n",
    "\n",
    "print('O tipo primitivo para essa entrada é: {}'.format(type(entrada)))\n",
    "print('É alfanumérico? {}'.format(entrada.isalpha()))\n",
    "print('É decima? {}'.format(entrada.isdecimal()))\n",
    "print('Está em caixa baixa? {}'.format(entrada.islower()))\n",
    "print('Está em caixa alta? {}'.format(entrada.isupper()))\n",
    "print('Tem apenas espaços em branco? {}'.format(entrada.isspace()))\n"
   ]
  }
 ],
 "metadata": {
  "kernelspec": {
   "display_name": "base",
   "language": "python",
   "name": "python3"
  },
  "language_info": {
   "codemirror_mode": {
    "name": "ipython",
    "version": 3
   },
   "file_extension": ".py",
   "mimetype": "text/x-python",
   "name": "python",
   "nbconvert_exporter": "python",
   "pygments_lexer": "ipython3",
   "version": "3.11.5"
  }
 },
 "nbformat": 4,
 "nbformat_minor": 2
}
