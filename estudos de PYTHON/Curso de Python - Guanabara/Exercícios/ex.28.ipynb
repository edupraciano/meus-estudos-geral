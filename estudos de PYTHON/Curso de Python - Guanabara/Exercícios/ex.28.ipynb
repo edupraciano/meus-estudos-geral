{
 "cells": [
  {
   "cell_type": "code",
   "execution_count": null,
   "metadata": {},
   "outputs": [],
   "source": [
    "# Ex.28\n",
    "# Escreva um programa que faça o computador \"pensar\" em um número inteiro entre 0 e 5\n",
    "# e peça para o usuário tentar descobrir qual foi o número escolhido pelo computador.\n",
    "# O programa deverá escrever na tela se o usuário venceu ou perdeu.\n",
    "\n",
    "import random\n",
    "numeroAleatorio = random.randrange(1,6)\n",
    "\n",
    "print(numeroAleatorio)\n",
    "\n",
    "tentativa = int(input('Escolha um número entre 1 e 5'))\n",
    "\n",
    "if tentativa == numeroAleatorio:\n",
    "    print('Parabéns, você acertou. O número escolhido pelo Computador era {} e você acertou.'.format(numeroAleatorio))\n",
    "else:\n",
    "    print('Não foi dessa vez, infelizmente o número que vc escolheu foi {} e o número do computador escolheu era {}'.format(tentativa, numeroAleatorio))\n"
   ]
  }
 ],
 "metadata": {
  "kernelspec": {
   "display_name": "base",
   "language": "python",
   "name": "python3"
  },
  "language_info": {
   "codemirror_mode": {
    "name": "ipython",
    "version": 3
   },
   "file_extension": ".py",
   "mimetype": "text/x-python",
   "name": "python",
   "nbconvert_exporter": "python",
   "pygments_lexer": "ipython3",
   "version": "3.11.5"
  }
 },
 "nbformat": 4,
 "nbformat_minor": 2
}
