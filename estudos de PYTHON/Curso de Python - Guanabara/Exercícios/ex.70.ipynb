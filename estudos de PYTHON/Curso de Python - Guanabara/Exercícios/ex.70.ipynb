{
 "cells": [
  {
   "cell_type": "code",
   "execution_count": 18,
   "metadata": {},
   "outputs": [
    {
     "name": "stdout",
     "output_type": "stream",
     "text": [
      "-=--=--=--=--=--=--=--=--=--=--=--=--=--=--=-\n",
      "Nome do 1º Produto: Geladeira\n",
      "Preço do 1º Produto: R$ 5000.0\n",
      "-=--=--=--=--=--=--=--=--=--=--=--=--=--=--=-\n",
      "Nome do 2º Produto: Porta\n",
      "Preço do 2º Produto: R$ 600.0\n",
      "-=--=--=--=--=--=--=--=--=--=--=--=--=--=--=-\n",
      "Nome do 3º Produto: Fogão\n",
      "Preço do 3º Produto: R$ 1300.0\n",
      "-=--=--=--=--=--=--=--=--=--=--=--=--=--=--=-\n",
      "Nome do 4º Produto: caderno\n",
      "Preço do 4º Produto: R$ 30.0\n",
      "-=--=--=--=--=--=--=--=--=--=--=--=--=--=--=-\n",
      "\n",
      "Contabilizando...\n",
      "\n",
      "Ao todo foram gastos R$ 6930.0 nas 4 compras que foram realizadas.\n",
      "Dos quais 2 produtos custaram mais de R$ 1000,00.\n",
      "O produto mais barato foi caderno que custa R$ 30.0.\n",
      "Programa Encerrado!\n"
     ]
    }
   ],
   "source": [
    "\"\"\"\n",
    "Ex.70 Crie um programa que leia o nome e o preço de vários produtos. O programa deverá perguntar se o usuário vai continuar ou não. No final, mostre:\n",
    "A) qual é o total gasto na compra.\n",
    "B) quantos produtos custam mais de R$1000.\n",
    "C) qual é o nome do produto mais barato.\n",
    "\"\"\"\n",
    "sair = 'N'\n",
    "cont = 1\n",
    "total = maisDeMil = 0\n",
    "maisBarato = ''\n",
    "precoMaisBarato = float('inf')\n",
    "\n",
    "while sair != 'S':\n",
    "    produto = str(input(f'Nome do {cont}º Produto: '))\n",
    "    preço = float(input(f'Quanto custa este(a) {produto}? '))\n",
    "    print('-=-' * 15)\n",
    "\n",
    "    if preço > 1000:\n",
    "        maisDeMil += 1\n",
    "\n",
    "    if preço < precoMaisBarato:\n",
    "        maisBarato = produto\n",
    "        precoMaisBarato = preço\n",
    "\n",
    "    print(f'Nome do {cont}º Produto: {produto}')\n",
    "    print(f'Preço do {cont}º Produto: R$ {preço}')\n",
    "    total += preço\n",
    "\n",
    "    sair = ' '\n",
    "    while sair not in 'SN':\n",
    "        sair = str(input('Deseja Sair? Digite [S/N]')).strip().upper()[0]\n",
    "        if sair not in 'SN':\n",
    "            print('Digite \"S\" para Sair e \"N\" para Não')\n",
    "\n",
    "    if sair == 'S':\n",
    "        break\n",
    "\n",
    "    cont += 1\n",
    "\n",
    "print('-=-' * 15)\n",
    "print()\n",
    "print('Contabilizando...')\n",
    "print(f'\\nAo todo foram gastos R$ {total} nas {cont} compras que foram realizadas.')\n",
    "print(f'Dos quais {maisDeMil} produtos custaram mais de R$ 1000,00.')\n",
    "print(f'O produto mais barato foi {maisBarato} que custa R$ {precoMaisBarato}.')\n",
    "print('\\nPrograma Encerrado!')\n"
   ]
  }
 ],
 "metadata": {
  "kernelspec": {
   "display_name": "base",
   "language": "python",
   "name": "python3"
  },
  "language_info": {
   "codemirror_mode": {
    "name": "ipython",
    "version": 3
   },
   "file_extension": ".py",
   "mimetype": "text/x-python",
   "name": "python",
   "nbconvert_exporter": "python",
   "pygments_lexer": "ipython3",
   "version": "3.11.5"
  }
 },
 "nbformat": 4,
 "nbformat_minor": 2
}
