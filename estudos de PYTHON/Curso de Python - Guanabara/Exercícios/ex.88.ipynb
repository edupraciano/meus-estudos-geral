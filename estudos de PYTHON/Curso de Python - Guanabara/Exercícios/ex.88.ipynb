{
 "cells": [
  {
   "cell_type": "code",
   "execution_count": 28,
   "metadata": {},
   "outputs": [
    {
     "name": "stdout",
     "output_type": "stream",
     "text": [
      "Entrada em Inválida, digite quantos jogos você quer fazer?\n",
      "========================================\n",
      "          SORTEIO DA MEGA SENA          \n",
      "========================================\n",
      "Criando o 1º jogo...\n",
      "Jogo 1: [5, 15, 27, 36, 53, 55]\n",
      "-=-=-=-=-=-=-=-=-=-=-=-=-=-=-=-=-=-=-=-=\n",
      "Criando o 2º jogo...\n",
      "Jogo 2: [22, 37, 38, 49, 52, 55]\n",
      "-=-=-=-=-=-=-=-=-=-=-=-=-=-=-=-=-=-=-=-=\n",
      "Criando o 3º jogo...\n",
      "Jogo 3: [14, 40, 42, 44, 45, 48]\n",
      "-=-=-=-=-=-=-=-=-=-=-=-=-=-=-=-=-=-=-=-=\n",
      "Criando o 4º jogo...\n",
      "Jogo 4: [3, 24, 31, 36, 40, 48]\n",
      "-=-=-=-=-=-=-=-=-=-=-=-=-=-=-=-=-=-=-=-=\n",
      "Criando o 5º jogo...\n",
      "Jogo 5: [5, 7, 18, 29, 44, 50]\n",
      "-=-=-=-=-=-=-=-=-=-=-=-=-=-=-=-=-=-=-=-=\n",
      "\n",
      "Boa sorte!\n"
     ]
    }
   ],
   "source": [
    "\"\"\"\n",
    "Ex.88 Faça um programa que ajude um jogador da MEGA SENA a criar palpites.O programa vai perguntar quantos jogos serão gerados e vai sortear 6 números entre 1 e 60 para cada jogo, cadastrando tudo em uma lista composta.\n",
    "\"\"\"\n",
    "from random import sample\n",
    "from time import sleep\n",
    "\n",
    "jogos = []\n",
    "\n",
    "while True:\n",
    "    entrada = input('Quantos jogos devem ser gerados?')\n",
    "    if entrada.isdigit():\n",
    "        qtde = int(entrada)\n",
    "        break\n",
    "    else:\n",
    "        print('Entrada em Inválida, digite quantos jogos você quer fazer?')\n",
    "\n",
    "print('=' * 40)\n",
    "print(f'{\"SORTEIO DA MEGA SENA\":^40}')\n",
    "print('=' * 40)\n",
    "for i in range(qtde):\n",
    "    print(f'Criando o {i + 1}º jogo...')\n",
    "    jogo = sorted(sample(range(1, 61), 6))\n",
    "    jogos.append(jogo)\n",
    "    print(f'Jogo {i+1}: {jogo}')\n",
    "    print('-=' * 20)\n",
    "    sleep(2)\n",
    "\n",
    "print('\\nBoa sorte!')\n",
    "\n"
   ]
  }
 ],
 "metadata": {
  "kernelspec": {
   "display_name": "base",
   "language": "python",
   "name": "python3"
  },
  "language_info": {
   "codemirror_mode": {
    "name": "ipython",
    "version": 3
   },
   "file_extension": ".py",
   "mimetype": "text/x-python",
   "name": "python",
   "nbconvert_exporter": "python",
   "pygments_lexer": "ipython3",
   "version": "3.11.5"
  }
 },
 "nbformat": 4,
 "nbformat_minor": 2
}
