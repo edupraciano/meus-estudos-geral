{
 "cells": [
  {
   "cell_type": "code",
   "execution_count": null,
   "metadata": {},
   "outputs": [],
   "source": [
    "# Ex.20\n",
    "# O mesmo professor do desafio anterior quer sortear a ordem de apresentação de trabalhos dos alunos.\n",
    "# Faça um programa que leia o nome dos quatro alunos e mostre a ordem sorteada.\n",
    "import random\n",
    "nome1 = input('Primeiro Nome: ')\n",
    "nome2 = input('Segundo Nome: ')\n",
    "nome3 = input('Terceiro Nome: ')\n",
    "nome4 = input('Quarto Nome: ')\n",
    "\n",
    "nomes = [nome1, nome2, nome3, nome4]\n",
    "random.shuffle(nomes)\n",
    "\n",
    "print(\"A lista de apresentação é {}.\".format(nomes))\n",
    "\n"
   ]
  }
 ],
 "metadata": {
  "kernelspec": {
   "display_name": "base",
   "language": "python",
   "name": "python3"
  },
  "language_info": {
   "codemirror_mode": {
    "name": "ipython",
    "version": 3
   },
   "file_extension": ".py",
   "mimetype": "text/x-python",
   "name": "python",
   "nbconvert_exporter": "python",
   "pygments_lexer": "ipython3",
   "version": "3.11.5"
  }
 },
 "nbformat": 4,
 "nbformat_minor": 2
}
