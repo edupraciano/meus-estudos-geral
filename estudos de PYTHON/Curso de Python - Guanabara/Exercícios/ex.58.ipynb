{
 "cells": [
  {
   "cell_type": "code",
   "execution_count": 28,
   "metadata": {},
   "outputs": [
    {
     "name": "stdout",
     "output_type": "stream",
     "text": [
      "1\n",
      "Sou seu computador e pensei em um número entre 0 e 10. Será que você acerta qual foi?\n",
      "Infelizmente não foi dessa vez, tente mais uma vez.\n",
      "Dessa vez, experimente um número MENOR\n",
      "\n",
      "Infelizmente não foi dessa vez, tente mais uma vez.\n",
      "Dessa vez, experimente um número MENOR\n",
      "\n",
      "Infelizmente não foi dessa vez, tente mais uma vez.\n",
      "Dessa vez, experimente um número MENOR\n",
      "\n",
      "Parabéns, você acertou com 4 tentativas.\n",
      "\n"
     ]
    }
   ],
   "source": [
    "\"\"\"\n",
    "Ex.58 Melhore o jogo do DESAFIO 28 onde o computador vai “pensar” em um número entre 0 e 10. Só que agora o jogador vai tentar adivinhar até acertar, mostrando no final quantos palpites foram necessários para vencer.\n",
    "\"\"\"\n",
    "from random import randint\n",
    "\n",
    "computador = randint(0, 10)\n",
    "tentativa = 0\n",
    "maximoTentativa = 5\n",
    "print(computador)\n",
    "\n",
    "print('Sou seu computador e pensei em um número entre 0 e 10. Será que você acerta qual foi?')\n",
    "\n",
    "while tentativa < maximoTentativa:\n",
    "    tentativa += 1\n",
    "    jogador = int(input('Número: '))\n",
    "\n",
    "    if jogador == computador:\n",
    "        print('Parabéns, você acertou com {} tentativas.'.format(tentativa))\n",
    "        print('')\n",
    "        break\n",
    "    else:\n",
    "        if jogador < computador:\n",
    "            print('Infelizmente não foi dessa vez, tente mais uma vez.')\n",
    "            print('Dessa vez, experimente um número MAIOR')\n",
    "            print('')\n",
    "        else:\n",
    "            print('Infelizmente não foi dessa vez, tente mais uma vez.')\n",
    "            print('Dessa vez, experimente um número MENOR')\n",
    "            print('')\n",
    "\n",
    "if tentativa == maximoTentativa:\n",
    "    print('Você atingiu o limite máximo de 5 tentativas.')\n",
    "    print('')\n"
   ]
  }
 ],
 "metadata": {
  "kernelspec": {
   "display_name": "base",
   "language": "python",
   "name": "python3"
  },
  "language_info": {
   "codemirror_mode": {
    "name": "ipython",
    "version": 3
   },
   "file_extension": ".py",
   "mimetype": "text/x-python",
   "name": "python",
   "nbconvert_exporter": "python",
   "pygments_lexer": "ipython3",
   "version": "3.11.5"
  }
 },
 "nbformat": 4,
 "nbformat_minor": 2
}
