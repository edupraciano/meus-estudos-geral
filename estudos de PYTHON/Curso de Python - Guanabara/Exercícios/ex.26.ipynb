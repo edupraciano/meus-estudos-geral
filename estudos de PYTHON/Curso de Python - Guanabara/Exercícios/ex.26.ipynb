{
 "cells": [
  {
   "cell_type": "code",
   "execution_count": 5,
   "metadata": {},
   "outputs": [
    {
     "name": "stdout",
     "output_type": "stream",
     "text": [
      "Foram encontrados 5 vezes a letra \"a\" nessa frase\n",
      "A primeira letra \"a\" aparece na posição número: 2.\n",
      "A última letra \"a\" foi encontrada na poição número: 13\n"
     ]
    }
   ],
   "source": [
    "# Ex.26\n",
    "# Faça um programa que leia uma frase qualquer e mostre:\n",
    "# Quantas vezes aparece a letra \"a\"\n",
    "# Em que posição ela aparece a primeira vez\n",
    "# Em que posição ela aparece a última vez\n",
    "\n",
    "frase = input(\"Digite uma frase qualquer\")\n",
    "qtdeA = frase.count(\"a\")\n",
    "\n",
    "# Mostra quantas vezes foi encontrado a letra A\n",
    "print('Foram encontrados {} vezes a letra \"a\" nessa frase'.format(qtdeA))\n",
    "\n",
    "# Diz em que posição a primeira letra A foi encontrada\n",
    "print('A primeira letra \"a\" aparece na posição número: {}.'.format(frase.find(\"a\") + 1))\n",
    "\n",
    "# Diz em que posição a última letra A foi encontrada\n",
    "print('A última letra \"a\" foi encontrada na poição número: {}'.format(frase.rfind(\"a\") + 1))"
   ]
  }
 ],
 "metadata": {
  "kernelspec": {
   "display_name": "base",
   "language": "python",
   "name": "python3"
  },
  "language_info": {
   "codemirror_mode": {
    "name": "ipython",
    "version": 3
   },
   "file_extension": ".py",
   "mimetype": "text/x-python",
   "name": "python",
   "nbconvert_exporter": "python",
   "pygments_lexer": "ipython3",
   "version": "3.11.5"
  }
 },
 "nbformat": 4,
 "nbformat_minor": 2
}
