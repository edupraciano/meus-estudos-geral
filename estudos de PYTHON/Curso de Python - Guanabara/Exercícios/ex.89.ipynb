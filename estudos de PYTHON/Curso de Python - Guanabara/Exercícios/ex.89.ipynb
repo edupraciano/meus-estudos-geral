{
 "cells": [
  {
   "cell_type": "code",
   "execution_count": 11,
   "metadata": {},
   "outputs": [
    {
     "name": "stdout",
     "output_type": "stream",
     "text": [
      "                 BOLETIM ESCOLAR                  \n",
      "-=-=-=-=-=-=-=-=-=-=-=-=-=-=-=-=-=-=-=-=-=-=-=-=-=\n",
      "N.º   Nome                   Média    Situação  \n",
      "==================================================\n",
      "0     Eduardo Praciano        9.5     Aprovado  \n",
      "1     Maria do Carmo          6.0     Aprovado  \n",
      "2     José Gimarães           1.5     Reprovado \n",
      "3     Roberto Pereira         9.0     Aprovado  \n",
      "\n",
      "As notas do aluno Roberto Pereira são: [10.0, 8.0]\n",
      "com essas notas este aluno está: Aprovado.\n",
      "\n",
      "Encerrando...\n",
      "Volte Sempre!\n"
     ]
    }
   ],
   "source": [
    "\"\"\"\n",
    "Ex.89 Crie um programa que leia nome e duas notas de vários alunos e guarde tudo em uma lista composta. No final, mostre um boletim contendo a média de cada um e permita que o usuário possa mostrar as notas de cada aluno individualmente.\n",
    "\"\"\"\n",
    "ficha = []\n",
    "situaçao = ''\n",
    "while True:\n",
    "    nome = str(input('Digite o nome:'))\n",
    "    nota1 = float(input('Digite a nota 01:' ))\n",
    "    nota2 = float(input('Digite a nota 02:' ))\n",
    "    media = (nota1 + nota2) / 2\n",
    "    if media < 3:\n",
    "        situaçao = 'Reprovado'\n",
    "    elif media >= 3 and media < 6:\n",
    "        situaçao = 'Recuperação'\n",
    "    else:\n",
    "        situaçao = 'Aprovado'\n",
    "    ficha.append([nome, [nota1, nota2], media, situaçao])\n",
    "    sair = str(input('Deseja SAIR? Digite [S/N]')).strip().upper()[0]\n",
    "    if sair == 'S':\n",
    "        break\n",
    "\n",
    "print(f'{\"BOLETIM ESCOLAR\":^50}')\n",
    "print('-=' * 25)\n",
    "\n",
    "print(f'{\"N.º\":<5} {\"Nome\":<20} {\"Média\":^10} {\"Situação\":<10}')\n",
    "print('=' * 50)\n",
    "for i, a in enumerate(ficha):\n",
    "    print(f'{i:<5} {a[0]:20} {a[2]:^10} {a[3]:<10}')\n",
    "while True:\n",
    "    verAluno = int(input('Deseja ver as notas que qual aluno? [999 - interrompe]'))\n",
    "    if verAluno == 999:\n",
    "        print('\\nEncerrando...')\n",
    "        print('Volte Sempre!')\n",
    "        break\n",
    "    if verAluno <= len(ficha):\n",
    "        print(f'\\nAs notas do aluno {ficha[verAluno][0]} são: {ficha[verAluno][1]}\\ncom essas notas este aluno está: {situaçao}.')\n"
   ]
  }
 ],
 "metadata": {
  "kernelspec": {
   "display_name": "base",
   "language": "python",
   "name": "python3"
  },
  "language_info": {
   "codemirror_mode": {
    "name": "ipython",
    "version": 3
   },
   "file_extension": ".py",
   "mimetype": "text/x-python",
   "name": "python",
   "nbconvert_exporter": "python",
   "pygments_lexer": "ipython3",
   "version": "3.11.5"
  }
 },
 "nbformat": 4,
 "nbformat_minor": 2
}
