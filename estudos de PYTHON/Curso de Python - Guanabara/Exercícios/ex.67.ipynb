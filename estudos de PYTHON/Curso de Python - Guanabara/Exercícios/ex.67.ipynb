{
 "cells": [
  {
   "cell_type": "code",
   "execution_count": 2,
   "metadata": {},
   "outputs": [
    {
     "name": "stdout",
     "output_type": "stream",
     "text": [
      "\u001b[33mTabuada de 9\n",
      "\u001b[0m 9 x 1 = 9\n",
      "\u001b[0m 9 x 2 = 18\n",
      "\u001b[0m 9 x 3 = 27\n",
      "\u001b[0m 9 x 4 = 36\n",
      "\u001b[0m 9 x 5 = 45\n",
      "\u001b[0m 9 x 6 = 54\n",
      "\u001b[0m 9 x 7 = 63\n",
      "\u001b[0m 9 x 8 = 72\n",
      "\u001b[0m 9 x 9 = 81\n",
      "\u001b[0m 9 x 10 = 90\n",
      "=-==-==-==-=\n",
      "\u001b[33mTabuada de 5\n",
      "\u001b[0m 5 x 1 = 5\n",
      "\u001b[0m 5 x 2 = 10\n",
      "\u001b[0m 5 x 3 = 15\n",
      "\u001b[0m 5 x 4 = 20\n",
      "\u001b[0m 5 x 5 = 25\n",
      "\u001b[0m 5 x 6 = 30\n",
      "\u001b[0m 5 x 7 = 35\n",
      "\u001b[0m 5 x 8 = 40\n",
      "\u001b[0m 5 x 9 = 45\n",
      "\u001b[0m 5 x 10 = 50\n",
      "=-==-==-==-=\n",
      "\u001b[33mTabuada de 4\n",
      "\u001b[0m 4 x 1 = 4\n",
      "\u001b[0m 4 x 2 = 8\n",
      "\u001b[0m 4 x 3 = 12\n",
      "\u001b[0m 4 x 4 = 16\n",
      "\u001b[0m 4 x 5 = 20\n",
      "\u001b[0m 4 x 6 = 24\n",
      "\u001b[0m 4 x 7 = 28\n",
      "\u001b[0m 4 x 8 = 32\n",
      "\u001b[0m 4 x 9 = 36\n",
      "\u001b[0m 4 x 10 = 40\n",
      "=-==-==-==-=\n"
     ]
    },
    {
     "ename": "ValueError",
     "evalue": "invalid literal for int() with base 10: ''",
     "output_type": "error",
     "traceback": [
      "\u001b[1;31m---------------------------------------------------------------------------\u001b[0m",
      "\u001b[1;31mValueError\u001b[0m                                Traceback (most recent call last)",
      "\u001b[1;32mi:\\Meu Drive\\meus-estudos-geral\\estudos de PYTHON\\Curso de Python - Guanabara\\Exercícios\\ex.67.ipynb Célula 1\u001b[0m line \u001b[0;36m6\n\u001b[0;32m      <a href='vscode-notebook-cell:/i%3A/Meu%20Drive/meus-estudos-geral/estudos%20de%20PYTHON/Curso%20de%20Python%20-%20Guanabara/Exerc%C3%ADcios/ex.67.ipynb#W0sZmlsZQ%3D%3D?line=3'>4</a>\u001b[0m \u001b[39mfrom\u001b[39;00m \u001b[39mcolorama\u001b[39;00m \u001b[39mimport\u001b[39;00m Fore, Style\n\u001b[0;32m      <a href='vscode-notebook-cell:/i%3A/Meu%20Drive/meus-estudos-geral/estudos%20de%20PYTHON/Curso%20de%20Python%20-%20Guanabara/Exerc%C3%ADcios/ex.67.ipynb#W0sZmlsZQ%3D%3D?line=4'>5</a>\u001b[0m \u001b[39mwhile\u001b[39;00m \u001b[39mTrue\u001b[39;00m:\n\u001b[1;32m----> <a href='vscode-notebook-cell:/i%3A/Meu%20Drive/meus-estudos-geral/estudos%20de%20PYTHON/Curso%20de%20Python%20-%20Guanabara/Exerc%C3%ADcios/ex.67.ipynb#W0sZmlsZQ%3D%3D?line=5'>6</a>\u001b[0m     num \u001b[39m=\u001b[39m \u001b[39mint\u001b[39m(\u001b[39minput\u001b[39m(\u001b[39m'\u001b[39m\u001b[39mDigite um número para mostrar a tabuada.\u001b[39m\u001b[39m'\u001b[39m))\n\u001b[0;32m      <a href='vscode-notebook-cell:/i%3A/Meu%20Drive/meus-estudos-geral/estudos%20de%20PYTHON/Curso%20de%20Python%20-%20Guanabara/Exerc%C3%ADcios/ex.67.ipynb#W0sZmlsZQ%3D%3D?line=6'>7</a>\u001b[0m     \u001b[39mif\u001b[39;00m num \u001b[39m<\u001b[39m \u001b[39m0\u001b[39m:\n\u001b[0;32m      <a href='vscode-notebook-cell:/i%3A/Meu%20Drive/meus-estudos-geral/estudos%20de%20PYTHON/Curso%20de%20Python%20-%20Guanabara/Exerc%C3%ADcios/ex.67.ipynb#W0sZmlsZQ%3D%3D?line=7'>8</a>\u001b[0m         \u001b[39mbreak\u001b[39;00m \n",
      "\u001b[1;31mValueError\u001b[0m: invalid literal for int() with base 10: ''"
     ]
    }
   ],
   "source": [
    "\"\"\"\n",
    "Ex.67 Faça um programa que mostre a tabuada de vários números, um de cada vez, para cada valor digitado pelo usuário. O programa será interrompido quando o número solicitado for negativo.\n",
    "\"\"\"\n",
    "from colorama import Fore, Style\n",
    "while True:\n",
    "    num = int(input('Digite um número para mostrar a tabuada.'))\n",
    "    if num < 0:\n",
    "        break \n",
    "    print(Fore.YELLOW +f'Tabuada de {num}')    \n",
    "    for i in range(1, 11):\n",
    "        print(Style.RESET_ALL +f' {num} x {i} = {num * i}')\n",
    "    print('=-=' * 4)\n",
    "print('Fim do Programa.')"
   ]
  }
 ],
 "metadata": {
  "kernelspec": {
   "display_name": "base",
   "language": "python",
   "name": "python3"
  },
  "language_info": {
   "codemirror_mode": {
    "name": "ipython",
    "version": 3
   },
   "file_extension": ".py",
   "mimetype": "text/x-python",
   "name": "python",
   "nbconvert_exporter": "python",
   "pygments_lexer": "ipython3",
   "version": "3.11.5"
  }
 },
 "nbformat": 4,
 "nbformat_minor": 2
}
