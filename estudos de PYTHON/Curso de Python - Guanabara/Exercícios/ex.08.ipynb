{
 "cells": [
  {
   "cell_type": "code",
   "execution_count": 8,
   "metadata": {},
   "outputs": [
    {
     "name": "stdout",
     "output_type": "stream",
     "text": [
      "Para o tamanho qua você escolheu, \n",
      "48.0 é o seu tamanho em decímetros, \n",
      "480.0 é o seu tamanho em centímetros, \n",
      "4800.0 é o seu tamanho em milímetros, \n",
      "0.48 é o seu tamanho em decâmetro, \n",
      "0.048 é o seu tamanho em Hectômetro,\n",
      "0.0048 é o seu tamanho em Kilômetro,\n"
     ]
    }
   ],
   "source": [
    "# Ex.08\n",
    "# Escreva um programa que leia um valor em metros e o exiba convertido em centímetros e milímetros\n",
    "tamanho = float(input('Digite um número'))\n",
    "decimetro = tamanho * 10\n",
    "centimetro = tamanho * 100\n",
    "milímetro = tamanho * 1000\n",
    "Decametro = tamanho / 10\n",
    "Hectrômetro = tamanho / 100\n",
    "Kilômetro = tamanho / 1000\n",
    "\n",
    "print('Para o tamanho qua você escolheu, \\n{} é o seu tamanho em decímetros, \\n{} é o seu tamanho em centímetros, \\n{} é o seu tamanho em milímetros, \\n{} é o seu tamanho em decâmetro, \\n{} é o seu tamanho em Hectômetro,\\n{} é o seu tamanho em Kilômetro,'.format(decimetro, centimetro, milímetro, Decametro, Hectrômetro, Kilômetro))\n",
    "\n",
    "\n"
   ]
  }
 ],
 "metadata": {
  "kernelspec": {
   "display_name": "base",
   "language": "python",
   "name": "python3"
  },
  "language_info": {
   "codemirror_mode": {
    "name": "ipython",
    "version": 3
   },
   "file_extension": ".py",
   "mimetype": "text/x-python",
   "name": "python",
   "nbconvert_exporter": "python",
   "pygments_lexer": "ipython3",
   "version": "3.11.5"
  }
 },
 "nbformat": 4,
 "nbformat_minor": 2
}
