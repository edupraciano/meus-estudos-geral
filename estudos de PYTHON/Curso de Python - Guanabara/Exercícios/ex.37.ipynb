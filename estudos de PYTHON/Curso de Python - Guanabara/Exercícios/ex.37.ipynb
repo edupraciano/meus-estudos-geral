{
 "cells": [
  {
   "cell_type": "code",
   "execution_count": null,
   "metadata": {},
   "outputs": [],
   "source": [
    "'''\n",
    "Ex.37  Escreva um programa que leia um número inteiro qualquer\n",
    "e peça para o usuário escolher qual será a base de conversão:\n",
    "1 > para binário\n",
    "2 > para octal\n",
    "3 > para hexadecimal\n",
    "'''\n",
    "\n",
    "num = int(input(\"Digite um número a ser convertido: \\n\"))\n",
    "base = int(input('''Escolha a base da conversão:\n",
    "Para binário digite: 1\n",
    "Para octal digite: 2\n",
    "Para hexadecimal digite: 3\n",
    "\n",
    "Sua escolha: \\n'''))\n",
    "\n",
    "if base == 1:\n",
    "    print(\"Você escolheu binário.\")\n",
    "    print(\"{} convertido para binário é: {}.\".format(num, bin(num)[2:]))\n",
    "elif base == 2:\n",
    "    print(\"Você escolheu octal.\")\n",
    "    print(\"{} convertido para octal é: {}.\".format(num, oct(num)[2:]))\n",
    "elif base == 3:\n",
    "    print(\"Você escolheu hexadecimal.\")\n",
    "    print(\"{} convertido para hexadecimal é: {}.\".format(num, hex(num)[2:]))\n",
    "else:\n",
    "    print(\"Por favor, escolha apenas uma das 3 opções.\")"
   ]
  }
 ],
 "metadata": {
  "kernelspec": {
   "display_name": "base",
   "language": "python",
   "name": "python3"
  },
  "language_info": {
   "codemirror_mode": {
    "name": "ipython",
    "version": 3
   },
   "file_extension": ".py",
   "mimetype": "text/x-python",
   "name": "python",
   "nbconvert_exporter": "python",
   "pygments_lexer": "ipython3",
   "version": "3.11.5"
  }
 },
 "nbformat": 4,
 "nbformat_minor": 2
}
