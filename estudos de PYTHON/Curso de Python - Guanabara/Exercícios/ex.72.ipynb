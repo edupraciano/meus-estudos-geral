{
 "cells": [
  {
   "cell_type": "code",
   "execution_count": 5,
   "metadata": {},
   "outputs": [
    {
     "name": "stdout",
     "output_type": "stream",
     "text": [
      "Entrada inválida. Por favor, digite um número dentro do intervalo permitido.\n",
      "Você digitou o número: TREZE\n",
      "Você digitou o número: DOIS\n",
      "Programa Encerrado!\n"
     ]
    }
   ],
   "source": [
    "\"\"\"\n",
    "Ex.72 Crie um programa que tenha uma dupla totalmente preenchida com uma contagem por extenso, de zero até vinte. Seu programa deverá ler um número pelo teclado (entre 0 e 20) e mostrá-lo por extenso\n",
    "\"\"\"\n",
    "contagem = ('ZERO', 'UM', 'DOIS', 'TRÊS', 'QUATRO', 'CINCO', 'SEIS', 'SETE', 'OITO', 'NOVE','DEZ',\n",
    "'ONZE', 'DOZE', 'TREZE', 'QUATORZE', 'QUINZE', 'DEZESSEIS', 'DEZESSETE', 'DEZOITO', 'DEZENOVE', 'VINTE')\n",
    "\n",
    "while True:\n",
    "    entrada = input('Digite um número entre 0 e 20: ')\n",
    "\n",
    "    if entrada.isdigit():\n",
    "        numero = int(entrada)\n",
    "\n",
    "        if 0 <= numero <= 20:\n",
    "            print(f'Você digitou o número: {contagem[numero]}')\n",
    "        else:\n",
    "            print('Número fora do intervalo permitido. Tente novamente.')\n",
    "    else:\n",
    "        print('Entrada inválida. Por favor, digite um número dentro do intervalo permitido.')\n",
    "\n",
    "    sair = input('Deseja Sair? Digite [S/N]: ').strip().upper()\n",
    "    if sair == 'S':\n",
    "        break\n",
    "    elif sair != 'N':\n",
    "        print('Opção inválida. Digite \"S\" para sair ou \"N\" para continuar.')\n",
    "\n",
    "print('Programa Encerrado!')\n",
    "      \n"
   ]
  }
 ],
 "metadata": {
  "kernelspec": {
   "display_name": "base",
   "language": "python",
   "name": "python3"
  },
  "language_info": {
   "codemirror_mode": {
    "name": "ipython",
    "version": 3
   },
   "file_extension": ".py",
   "mimetype": "text/x-python",
   "name": "python",
   "nbconvert_exporter": "python",
   "pygments_lexer": "ipython3",
   "version": "3.11.5"
  }
 },
 "nbformat": 4,
 "nbformat_minor": 2
}
