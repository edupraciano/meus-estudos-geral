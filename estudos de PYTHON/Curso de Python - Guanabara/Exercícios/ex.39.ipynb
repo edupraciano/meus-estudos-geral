{
 "cells": [
  {
   "cell_type": "code",
   "execution_count": 10,
   "metadata": {},
   "outputs": [
    {
     "name": "stdout",
     "output_type": "stream",
     "text": [
      "Para a sua idade o serviço Militar É Obrigatório.\n",
      "Procure uma unidade Militar mais próxima e Aliste-se.\n"
     ]
    }
   ],
   "source": [
    "\"\"\"\n",
    "Ex.39 Faça um programa que leia o ano de nascimento de um jovem e informe\n",
    "de acordo com sua idade:\n",
    "\n",
    "- Se ele ainda vai se alistar ao serviço militar\n",
    "- Se é a hora de se alistar\n",
    "- Se já passou do tempo do alistamento\n",
    "\n",
    "Seu programa também deverá mostrar o tempo que faltou ou que passou do prazo\n",
    "\"\"\"\n",
    "from datetime import date\n",
    "\n",
    "anoNasc = int(input(\"Digite o ano de Nascimento.\"))\n",
    "\n",
    "anoAtual = date.today().year\n",
    "idade = anoAtual - anoNasc\n",
    "\n",
    "if idade < 18:\n",
    "    diferença = 18 - idade\n",
    "    anoDoAlistamento = anoAtual + diferença\n",
    "    situacao = \"ainda Não Obrigatório\"\n",
    "    print(f\"Para a sua idade o serviço Militar {situacao}.\")\n",
    "    print(f\"Ainda faltam {diferença} anos para a sua convocação, aguarde.\")\n",
    "    print(\"Seu alistamento será em {}\".format(anoDoAlistamento))\n",
    "\n",
    "elif idade == 18:\n",
    "    situacao = \"É Obrigatório\"\n",
    "    print(f\"Para a sua idade o serviço Militar {situacao}.\")\n",
    "    print(\"Procure uma unidade Militar mais próxima e Aliste-se!!!\")\n",
    "else:\n",
    "    situacao = \"Já deveria ter se Alistado\"\n",
    "    diferença = idade - 18\n",
    "    anoDoAlistamento = anoAtual - diferença\n",
    "    print(f\"Para a sua idade {situacao}.\")\n",
    "    print(\n",
    "        f\"Procure imediatamente uma Unidade Militar para a justificativa, pois já se passaram {diferença} anos.\"\n",
    "    )\n",
    "    print(\"Seu alistamento foi em {}\".format(anoDoAlistamento))"
   ]
  }
 ],
 "metadata": {
  "kernelspec": {
   "display_name": "base",
   "language": "python",
   "name": "python3"
  },
  "language_info": {
   "codemirror_mode": {
    "name": "ipython",
    "version": 3
   },
   "file_extension": ".py",
   "mimetype": "text/x-python",
   "name": "python",
   "nbconvert_exporter": "python",
   "pygments_lexer": "ipython3",
   "version": "3.11.5"
  }
 },
 "nbformat": 4,
 "nbformat_minor": 2
}
