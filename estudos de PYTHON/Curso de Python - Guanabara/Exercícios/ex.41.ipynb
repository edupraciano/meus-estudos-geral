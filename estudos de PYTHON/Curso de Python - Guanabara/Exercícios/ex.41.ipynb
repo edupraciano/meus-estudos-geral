{
 "cells": [
  {
   "cell_type": "code",
   "execution_count": 6,
   "metadata": {},
   "outputs": [
    {
     "name": "stdout",
     "output_type": "stream",
     "text": [
      "O atleta tem 18 anos e está nan categoria \"júnior\".\n"
     ]
    }
   ],
   "source": [
    "\"\"\"\n",
    "Ex.41 A Confederação Nacional de Natação precisa de um programa que leia\n",
    "o ano de nascimento de um atleta e mostre sua categoria, de acordo com a idade:\n",
    "\n",
    "- até 9 anos: mirim\n",
    "- até 14 anos: infantil\n",
    "- até 19 anos: júnior\n",
    "- até 20 anos: sênior\n",
    "acima de 20: master\n",
    "\"\"\"\n",
    "import datetime\n",
    "\n",
    "anoNasci = int(input(\"Digite o ano de nascimento do atleta:\"))\n",
    "anoAtual = datetime.datetime.now().year\n",
    "idade = anoAtual - anoNasci\n",
    "\n",
    "if idade < 9:\n",
    "    print(f'O atleta tem {idade} anos, e está na categoria \"mirim\".')\n",
    "elif idade >= 9 and idade < 14:\n",
    "    print(f'O atleta tem {idade} anos e está nan categoria \"infantil\".')\n",
    "elif idade >= 14 and idade < 19:\n",
    "    print(f'O atleta tem {idade} anos e está nan categoria \"júnior\".')\n",
    "elif idade >= 19 and idade < 20:\n",
    "    print(f'O atleta tem {idade} anos e está nan categoria \"sênior\".')\n",
    "else:\n",
    "    print(f'O atleta tem {idade} anos e está nan categoria \"master\".')"
   ]
  },
  {
   "cell_type": "code",
   "execution_count": null,
   "metadata": {},
   "outputs": [],
   "source": []
  }
 ],
 "metadata": {
  "kernelspec": {
   "display_name": "base",
   "language": "python",
   "name": "python3"
  },
  "language_info": {
   "codemirror_mode": {
    "name": "ipython",
    "version": 3
   },
   "file_extension": ".py",
   "mimetype": "text/x-python",
   "name": "python",
   "nbconvert_exporter": "python",
   "pygments_lexer": "ipython3",
   "version": "3.11.5"
  }
 },
 "nbformat": 4,
 "nbformat_minor": 2
}
