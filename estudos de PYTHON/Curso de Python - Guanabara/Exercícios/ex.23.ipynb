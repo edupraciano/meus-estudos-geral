{
 "cells": [
  {
   "cell_type": "code",
   "execution_count": 7,
   "metadata": {},
   "outputs": [
    {
     "name": "stdout",
     "output_type": "stream",
     "text": [
      "milhar: 4\n",
      "centena: 5\n",
      "dezena: 6\n",
      "unidade: 7\n"
     ]
    }
   ],
   "source": [
    "# Ex.23\n",
    "# Faça um programa que leia um número de 0 a 9999 e mostre na tela cada um dos dígitos separados\n",
    "\n",
    "# ex.: digite um número: 1834\n",
    "# unidade: 4\n",
    "# dezenas: 3\n",
    "# centenas: 8\n",
    "# milhares: 1\n",
    "numero = input('Digite um número com 4 dígitos')\n",
    "\n",
    "print('milhar: {}'.format(numero[0]))\n",
    "print('centena: {}'.format(numero[1]))\n",
    "print('dezena: {}'.format(numero[2]))\n",
    "print('unidade: {}'.format(numero[3]))"
   ]
  }
 ],
 "metadata": {
  "kernelspec": {
   "display_name": "base",
   "language": "python",
   "name": "python3"
  },
  "language_info": {
   "codemirror_mode": {
    "name": "ipython",
    "version": 3
   },
   "file_extension": ".py",
   "mimetype": "text/x-python",
   "name": "python",
   "nbconvert_exporter": "python",
   "pygments_lexer": "ipython3",
   "version": "3.11.5"
  }
 },
 "nbformat": 4,
 "nbformat_minor": 2
}
