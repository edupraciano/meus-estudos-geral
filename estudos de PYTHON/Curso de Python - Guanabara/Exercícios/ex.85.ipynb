{
 "cells": [
  {
   "cell_type": "code",
   "execution_count": 2,
   "metadata": {},
   "outputs": [
    {
     "name": "stdout",
     "output_type": "stream",
     "text": [
      " => Digite um número válido.\n",
      "\n",
      "-=-=-=-=-=-=-=-=-=-=-=-=-=-=-=-=-=-=-=-=-=-=-=-=-=-=-=-=-=-=\n",
      "O número 9 foi adicionado à lista dos números ímpares.\n",
      "-=-=-=-=-=-=-=-=-=-=-=-=-=-=-=-=-=-=-=-=-=-=-=-=-=-=-=-=-=-=\n",
      "O número 7 foi adicionado à lista dos números ímpares.\n",
      "-=-=-=-=-=-=-=-=-=-=-=-=-=-=-=-=-=-=-=-=-=-=-=-=-=-=-=-=-=-=\n",
      "O número 5 foi adicionado à lista dos números ímpares.\n",
      " => Digite um número válido.\n",
      "\n",
      " => Digite um número válido.\n",
      "\n",
      "-=-=-=-=-=-=-=-=-=-=-=-=-=-=-=-=-=-=-=-=-=-=-=-=-=-=-=-=-=-=\n",
      "O número 6 foi adicionado à lista dos números pares.\n",
      "-=-=-=-=-=-=-=-=-=-=-=-=-=-=-=-=-=-=-=-=-=-=-=-=-=-=-=-=-=-=\n",
      "O número 3 foi adicionado à lista dos números ímpares.\n",
      "-=-=-=-=-=-=-=-=-=-=-=-=-=-=-=-=-=-=-=-=-=-=-=-=-=-=-=-=-=-=\n",
      "O número 9 foi adicionado à lista dos números ímpares.\n",
      " => Digite um número válido.\n",
      "\n",
      " => Digite um número válido.\n",
      "\n",
      " => Digite um número válido.\n",
      "\n",
      "-=-=-=-=-=-=-=-=-=-=-=-=-=-=-=-=-=-=-=-=-=-=-=-=-=-=-=-=-=-=\n",
      "O número 3 foi adicionado à lista dos números ímpares.\n",
      "-=-=-=-=-=-=-=-=-=-=-=-=-=-=-=-=-=-=-=-=-=-=-=-=-=-=-=-=-=-=\n",
      "Os números digitados foram: [9, 7, 5, 6, 3, 9, 3]\n",
      "Os número pares são [6]\n",
      "Os número impares são [3, 3, 5, 7, 9, 9]\n",
      "E a lista única é: [[6], [3, 3, 5, 7, 9, 9]]\n"
     ]
    }
   ],
   "source": [
    "\"\"\"\n",
    "Ex.85 Crie um programa onde o usuário possa digitar sete valores numéricos e cadastre-os em uma lista única que mantenha separados os valores pares e ímpares. No final, mostre os valores pares e ímpares em ordem crescente.\n",
    "\"\"\"\n",
    "listaFinal = []\n",
    "todos = []\n",
    "temp = []\n",
    "pares = []\n",
    "impares = []\n",
    "cont = 0\n",
    "for c in range(7):\n",
    "    while True:\n",
    "        entrada = input('DIgite um número:')\n",
    "        if entrada.isdigit():\n",
    "            num = int(entrada)\n",
    "            todos.append(num)\n",
    "            temp.append(num)\n",
    "            if num % 2 == 0:\n",
    "                print('-=' * 30)\n",
    "                print(f'O número {num} foi adicionado à lista dos números pares.')\n",
    "                pares.append(temp[0])\n",
    "                temp.clear()\n",
    "            else:\n",
    "                print('-=' * 30)\n",
    "                print(f'O número {num} foi adicionado à lista dos números ímpares.')\n",
    "                impares.append(temp[0])\n",
    "                temp.clear()\n",
    "            break\n",
    "        else:\n",
    "            print(f'{\" => Digite um número válido.\":^10}\\n')\n",
    "    cont+= 1\n",
    "listaFinal.append(sorted(pares))\n",
    "listaFinal.append(sorted(impares))\n",
    "print('-=' * 30)\n",
    "print(f'Os números digitados foram: {todos}')\n",
    "print(f'Os número pares são {sorted(pares)}')\n",
    "print(f'Os número impares são {sorted(impares)}')\n",
    "print(f'E a lista única é: {listaFinal}')\n",
    "\n",
    "\n",
    "\n",
    "\n"
   ]
  }
 ],
 "metadata": {
  "kernelspec": {
   "display_name": "base",
   "language": "python",
   "name": "python3"
  },
  "language_info": {
   "codemirror_mode": {
    "name": "ipython",
    "version": 3
   },
   "file_extension": ".py",
   "mimetype": "text/x-python",
   "name": "python",
   "nbconvert_exporter": "python",
   "pygments_lexer": "ipython3",
   "version": "3.11.5"
  }
 },
 "nbformat": 4,
 "nbformat_minor": 2
}
