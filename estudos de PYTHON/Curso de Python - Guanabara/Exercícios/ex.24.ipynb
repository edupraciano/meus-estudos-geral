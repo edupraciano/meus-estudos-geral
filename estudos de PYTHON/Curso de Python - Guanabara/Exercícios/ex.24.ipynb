{
 "cells": [
  {
   "cell_type": "code",
   "execution_count": 14,
   "metadata": {},
   "outputs": [
    {
     "name": "stdout",
     "output_type": "stream",
     "text": [
      "Falso\n"
     ]
    }
   ],
   "source": [
    "# Ex.24\n",
    "# # Crie um programa que leia o nome de uma cidade e diga se ela começa ou não com a palavra \"Santo\"\n",
    "cidade = input(\"Digite o mome de uma cidade\")\n",
    "primeiroNome = cidade.split(\" \")[0].strip().lower()\n",
    "if primeiroNome == \"santo\":\n",
    "    print(\"Verdadeiro\")\n",
    "else:\n",
    "    print(\"Falso\")"
   ]
  }
 ],
 "metadata": {
  "kernelspec": {
   "display_name": "base",
   "language": "python",
   "name": "python3"
  },
  "language_info": {
   "codemirror_mode": {
    "name": "ipython",
    "version": 3
   },
   "file_extension": ".py",
   "mimetype": "text/x-python",
   "name": "python",
   "nbconvert_exporter": "python",
   "pygments_lexer": "ipython3",
   "version": "3.11.5"
  }
 },
 "nbformat": 4,
 "nbformat_minor": 2
}
