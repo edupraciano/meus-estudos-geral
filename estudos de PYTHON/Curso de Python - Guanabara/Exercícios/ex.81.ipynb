{
 "cells": [
  {
   "cell_type": "code",
   "execution_count": 1,
   "metadata": {},
   "outputs": [
    {
     "name": "stdout",
     "output_type": "stream",
     "text": [
      "Digite um número válido.\n",
      "Entrada inválida. Por favor, digite S ou N.\n",
      "-=-=-=-=-=-=-=-=-=-=-=-=-=-=-=-=-=-=-=-=\n",
      "A lista original é: [6, 9, 3, 1, 5, 6]\n",
      "Você digitou 6 números.\n",
      "A lista em ordem decrescente é: [9, 6, 6, 5, 3, 1]\n",
      "O número 5 foi digitado na lista.\n"
     ]
    }
   ],
   "source": [
    "\"\"\"\n",
    "Ex.81 Crie um programa que vai ler vários números e colocar em uma lista. Depois disso, mostre:\n",
    "A) Quantos números foram digitados.\n",
    "B) A lista de valores, ordenada de forma decrescente.\n",
    "C) Se o valor 5 foi digitado e está ou não na lista.\n",
    "\"\"\"\n",
    "lista = []\n",
    "num5 = 'não foi digitado'\n",
    "\n",
    "while True:\n",
    "    entrada = input('Digite um número: ')\n",
    "\n",
    "    if entrada.isdigit():\n",
    "        num = int(entrada)\n",
    "        lista.append(num)\n",
    "        \n",
    "        if num == 5:\n",
    "            num5 = 'foi digitado'\n",
    "    else:\n",
    "        print('Digite um número válido.')\n",
    "\n",
    "    sair = ''\n",
    "    while sair not in ['S', 'N']:\n",
    "        sair = input('Deseja SAIR? [S/N]: ').strip().upper()[0]\n",
    "        if sair not in ['S', 'N']:\n",
    "            print('Entrada inválida. Por favor, digite S ou N.')\n",
    "\n",
    "    if sair == 'S':\n",
    "        break\n",
    "\n",
    "print('-=' * 20)\n",
    "print(f'A lista original é: {lista}')\n",
    "print(f'Você digitou {len(lista)} números.')\n",
    "print(f'A lista em ordem decrescente é: {sorted(lista, reverse=True)}')\n",
    "print(f'O número 5 {num5} na lista.')\n"
   ]
  }
 ],
 "metadata": {
  "kernelspec": {
   "display_name": "base",
   "language": "python",
   "name": "python3"
  },
  "language_info": {
   "codemirror_mode": {
    "name": "ipython",
    "version": 3
   },
   "file_extension": ".py",
   "mimetype": "text/x-python",
   "name": "python",
   "nbconvert_exporter": "python",
   "pygments_lexer": "ipython3",
   "version": "3.11.5"
  }
 },
 "nbformat": 4,
 "nbformat_minor": 2
}
