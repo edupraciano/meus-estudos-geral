{
 "cells": [
  {
   "cell_type": "code",
   "execution_count": 28,
   "metadata": {},
   "outputs": [
    {
     "name": "stdout",
     "output_type": "stream",
     "text": [
      "A soma dos 83 valores solicitados é: 20667\n"
     ]
    }
   ],
   "source": [
    "\"\"\"\n",
    "Ex.48 Faça um programa que calcule a soma entre todos os números que são múltiplos de três e que se encontram no intervalo de 1 até 500.\n",
    "\"\"\"\n",
    "soma = 0\n",
    "cont = 0\n",
    "for i in range(1, 501, 2):\n",
    "    if i % 3 == 0:\n",
    "        cont += 1\n",
    "        soma += i\n",
    "print('A soma dos {} valores solicitados é: {}'.format(cont, soma))"
   ]
  }
 ],
 "metadata": {
  "kernelspec": {
   "display_name": "base",
   "language": "python",
   "name": "python3"
  },
  "language_info": {
   "codemirror_mode": {
    "name": "ipython",
    "version": 3
   },
   "file_extension": ".py",
   "mimetype": "text/x-python",
   "name": "python",
   "nbconvert_exporter": "python",
   "pygments_lexer": "ipython3",
   "version": "3.11.5"
  }
 },
 "nbformat": 4,
 "nbformat_minor": 2
}
