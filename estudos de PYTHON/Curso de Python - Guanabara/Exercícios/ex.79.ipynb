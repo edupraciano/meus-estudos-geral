{
 "cells": [
  {
   "cell_type": "code",
   "execution_count": 55,
   "metadata": {},
   "outputs": [
    {
     "name": "stdout",
     "output_type": "stream",
     "text": [
      "Os números digitados em ordem crescente são: [2, 4, 8, 9]\n",
      "Os números digitados em ordem DEcrescente são: [9, 8, 4, 2]\n"
     ]
    }
   ],
   "source": [
    "\"\"\"\n",
    "Ex.79 Crie um programa onde o usuário possa digitar vários valores numéricos e cadastre-os em uma lista. Caso o número já exista lá dentro, ele não será adicionado. No final, serão exibidos todos os valores únicos digitados, em ordem crescente e decrescente.\n",
    "\"\"\"\n",
    "lista = []\n",
    "\n",
    "while True:\n",
    "\n",
    "    while True:\n",
    "        entrada = input('Digite um valor: ')\n",
    "\n",
    "        if entrada.isdigit():\n",
    "            num = int(entrada)\n",
    "            if num not in lista:\n",
    "                lista.append(num)\n",
    "                break\n",
    "            else:\n",
    "                print(\n",
    "                    'Este número já consta na lista e não pode ser cadastrado. Digite outro número.')\n",
    "        else:\n",
    "            print('Digite um valor numérico inteiro e positivo.')\n",
    "\n",
    "    sair = ' '\n",
    "    while sair not in 'SN':\n",
    "        sair = str(input('Deseja SAIR? Digite [S/N]')).strip().upper()[0]\n",
    "\n",
    "    if sair == 'S':\n",
    "        break\n",
    "\n",
    "lista.sort()\n",
    "print(f'Os números digitados em ordem crescente são: {lista}')\n",
    "lista.reverse()\n",
    "print(f'Os números digitados em ordem DEcrescente são: {lista}')"
   ]
  }
 ],
 "metadata": {
  "kernelspec": {
   "display_name": "base",
   "language": "python",
   "name": "python3"
  },
  "language_info": {
   "codemirror_mode": {
    "name": "ipython",
    "version": 3
   },
   "file_extension": ".py",
   "mimetype": "text/x-python",
   "name": "python",
   "nbconvert_exporter": "python",
   "pygments_lexer": "ipython3",
   "version": "3.11.5"
  }
 },
 "nbformat": 4,
 "nbformat_minor": 2
}
