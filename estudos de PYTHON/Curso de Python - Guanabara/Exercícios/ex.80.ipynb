{
 "cells": [
  {
   "cell_type": "code",
   "execution_count": 3,
   "metadata": {},
   "outputs": [
    {
     "name": "stdout",
     "output_type": "stream",
     "text": [
      "A lista na ordem crescente é: [4, 6, 7, 8, 9]\n"
     ]
    }
   ],
   "source": [
    "\"\"\"\n",
    "Ex.80 Crie um programa onde o usuário possa digitar cinco valores numéricos e cadastre-os em uma lista, já na posição correta de inserção (sem usar o sort()). No final, mostre a lista ordenada na tela.\n",
    "\"\"\"\n",
    "lista = []\n",
    "for c in range(5):\n",
    "    num = int(input('Digite um número: '))\n",
    "    if c == 0:\n",
    "        lista.append(num)\n",
    "    elif num > lista[-1]:\n",
    "        lista.append(num)\n",
    "    else:\n",
    "        pos = 0\n",
    "        while pos < len(lista):\n",
    "            if num <= lista[pos]:\n",
    "                lista.insert(pos, num)\n",
    "                break\n",
    "            pos += 1\n",
    "print(f'A lista na ordem crescente é: {lista}')"
   ]
  }
 ],
 "metadata": {
  "kernelspec": {
   "display_name": "base",
   "language": "python",
   "name": "python3"
  },
  "language_info": {
   "codemirror_mode": {
    "name": "ipython",
    "version": 3
   },
   "file_extension": ".py",
   "mimetype": "text/x-python",
   "name": "python",
   "nbconvert_exporter": "python",
   "pygments_lexer": "ipython3",
   "version": "3.11.5"
  }
 },
 "nbformat": 4,
 "nbformat_minor": 2
}
