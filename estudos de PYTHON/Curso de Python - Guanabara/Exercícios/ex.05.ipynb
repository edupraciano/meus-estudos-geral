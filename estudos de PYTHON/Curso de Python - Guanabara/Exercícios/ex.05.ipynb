{
 "cells": [
  {
   "cell_type": "code",
   "execution_count": 3,
   "metadata": {},
   "outputs": [
    {
     "name": "stdout",
     "output_type": "stream",
     "text": [
      "Para o número 5, o seu antecessor é: 4 e o seu sucessor é: 6.\n"
     ]
    }
   ],
   "source": [
    "# Ex.05\n",
    "# Faça um programa que leia um número inteiro e mostre na tela o seu sucessor e seu antecessor:\n",
    "numero = 5\n",
    "antecessor = numero - 1\n",
    "successor = numero + 1\n",
    "\n",
    "print('Para o número {}, o seu antecessor é: {} e o seu sucessor é: {}.'.format(numero, antecessor, successor))\n",
    "\n",
    "\n"
   ]
  }
 ],
 "metadata": {
  "kernelspec": {
   "display_name": "base",
   "language": "python",
   "name": "python3"
  },
  "language_info": {
   "codemirror_mode": {
    "name": "ipython",
    "version": 3
   },
   "file_extension": ".py",
   "mimetype": "text/x-python",
   "name": "python",
   "nbconvert_exporter": "python",
   "pygments_lexer": "ipython3",
   "version": "3.11.5"
  }
 },
 "nbformat": 4,
 "nbformat_minor": 2
}
