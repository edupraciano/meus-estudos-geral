{
 "cells": [
  {
   "cell_type": "code",
   "execution_count": 11,
   "metadata": {},
   "outputs": [
    {
     "name": "stdout",
     "output_type": "stream",
     "text": [
      "Com esses lados é possível formar um triângulo\n",
      "O triângulo é Equilátero, pois possui a mesma medida para todos os lados.\n"
     ]
    }
   ],
   "source": [
    "\"\"\"\n",
    "Ex.42 Refaça o DESAFIO 35, dos triângulos, acrescentando o recurso de mostrar\n",
    "que tipo de triângulo será formado:\n",
    "\n",
    "- equilátero: todos os lados iguais\n",
    "- isósceles: dois lados iguais\n",
    "- escaleno: todos os lados diferentes\n",
    "\"\"\"\n",
    "\n",
    "lado1 = float(input('Digite o comprimento do primeiro lado:'))\n",
    "lado2 = float(input('Digite o comprimento do segundo lado:'))\n",
    "lado3 = float(input('Digite o comprimento do terceiro lado:'))\n",
    "\n",
    "if (lado1 < lado2 + lado3) and (lado2 < lado1 + lado3) and (lado3 < lado1 + lado2):\n",
    "    print('Com esses lados é possível formar um triângulo')\n",
    "    \n",
    "    if lado1 == lado2 and lado1 == lado3 and lado2 == lado3:\n",
    "        print('O triângulo é Equilátero, pois possui a mesma medida para todos os lados.')\n",
    "    elif (lado1 == lado2) or (lado1 == lado3) or (lado2 == lado3):\n",
    "        print('O triângulo é Isósceles, pois possui dois lados com a mesma medida.')\n",
    "    else:\n",
    "        print('O triângulo é Escaleno, pois todos os seus lados têm tamanhos diferentes.')\n",
    "else:\n",
    "    print('Com esses lados NÃO é possível formar um triângulo')"
   ]
  },
  {
   "cell_type": "code",
   "execution_count": null,
   "metadata": {},
   "outputs": [],
   "source": []
  }
 ],
 "metadata": {
  "kernelspec": {
   "display_name": "base",
   "language": "python",
   "name": "python3"
  },
  "language_info": {
   "codemirror_mode": {
    "name": "ipython",
    "version": 3
   },
   "file_extension": ".py",
   "mimetype": "text/x-python",
   "name": "python",
   "nbconvert_exporter": "python",
   "pygments_lexer": "ipython3",
   "version": "3.11.5"
  }
 },
 "nbformat": 4,
 "nbformat_minor": 2
}
