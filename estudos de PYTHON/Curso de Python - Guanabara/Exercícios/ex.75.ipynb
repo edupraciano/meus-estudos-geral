{
 "cells": [
  {
   "cell_type": "code",
   "execution_count": 35,
   "metadata": {},
   "outputs": [
    {
     "name": "stdout",
     "output_type": "stream",
     "text": [
      "Esta é a tupla que foi criada a partir dos números digitados (7, 9, 3, 5, 9)\n",
      "O número nove apareceram 2 vezes na tupla.\n",
      "A primeiro valor 3 está na 3 ª posição da tupla.\n",
      "Não foram encontrados números pares.\n"
     ]
    }
   ],
   "source": [
    "\"\"\"\n",
    "Ex.75  Desenvolva um programa que leia quatro valores pelo teclado e guarde-os em uma tupla. No final, mostre:\n",
    "A) Quantas vezes apareceu o valor 9.\n",
    "B) Em que posição foi digitado o primeiro valor 3.\n",
    "C) Quais foram os números pares.\n",
    "\"\"\"\n",
    "\n",
    "tupla= []\n",
    "cont = 0\n",
    "\n",
    "while cont < 5:\n",
    "    num = int(input('Digite um número:'))\n",
    "    tupla.append(num)\n",
    "    cont += 1\n",
    "\n",
    "tupla = tuple(tupla)\n",
    "\n",
    "# Criação da tupla\n",
    "print(f'Esta é a tupla que foi criada a partir dos números digitados {tupla}')\n",
    "\n",
    "# Quantas vezes apareceu o valor 9.\n",
    "nove = tupla.count(9)\n",
    "print(f'O número nove apareceram {nove} vezes na tupla.')\n",
    "\n",
    "# Em que posição foi digitado o primeiro valor 3.\n",
    "if 3 in tupla:\n",
    "    tres = tupla.index(3)\n",
    "    print(f'A primeiro valor 3 está na {tres + 1} ª posição da tupla.')\n",
    "else:\n",
    "    print('O valor 3 NÃO foi digitado')\n",
    "\n",
    "# Quais foram os números pares.\n",
    "pares = []\n",
    "for n in tupla:\n",
    "    if n % 2 == 0:\n",
    "        pares.append(n)\n",
    "\n",
    "if pares:\n",
    "    print(f'Os números pares são: {pares}')\n",
    "else:\n",
    "    print('Não foram encontrados números pares.')\n"
   ]
  }
 ],
 "metadata": {
  "kernelspec": {
   "display_name": "base",
   "language": "python",
   "name": "python3"
  },
  "language_info": {
   "codemirror_mode": {
    "name": "ipython",
    "version": 3
   },
   "file_extension": ".py",
   "mimetype": "text/x-python",
   "name": "python",
   "nbconvert_exporter": "python",
   "pygments_lexer": "ipython3",
   "version": "3.11.5"
  }
 },
 "nbformat": 4,
 "nbformat_minor": 2
}
