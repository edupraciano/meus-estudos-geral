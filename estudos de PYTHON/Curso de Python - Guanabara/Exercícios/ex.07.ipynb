{
 "cells": [
  {
   "cell_type": "code",
   "execution_count": 1,
   "metadata": {},
   "outputs": [
    {
     "name": "stdout",
     "output_type": "stream",
     "text": [
      "Para as notas 4.0 e 9.0 a média do aluno foi: 6.5\n"
     ]
    }
   ],
   "source": [
    "# Ex.07\n",
    "# Desenvolva um programa que leia as duas notas de um aluno, calcule e mostre a sua média\n",
    "nota1 = float(input('Digite a primeira nota'))\n",
    "nota2 = float(input('Digite a segunda nota'))\n",
    "media = (nota1 + nota2) / 2\n",
    "\n",
    "print('Para as notas {} e {} a média do aluno foi: {}'.format(nota1, nota2, media))\n",
    "\n",
    "\n"
   ]
  }
 ],
 "metadata": {
  "kernelspec": {
   "display_name": "base",
   "language": "python",
   "name": "python3"
  },
  "language_info": {
   "codemirror_mode": {
    "name": "ipython",
    "version": 3
   },
   "file_extension": ".py",
   "mimetype": "text/x-python",
   "name": "python",
   "nbconvert_exporter": "python",
   "pygments_lexer": "ipython3",
   "version": "3.11.5"
  }
 },
 "nbformat": 4,
 "nbformat_minor": 2
}
