{
 "cells": [
  {
   "cell_type": "code",
   "execution_count": 2,
   "metadata": {},
   "outputs": [
    {
     "name": "stdout",
     "output_type": "stream",
     "text": [
      "O valor da passagem é: R$ 90.45\n"
     ]
    }
   ],
   "source": [
    "'''\n",
    "Ex.31 Desenvolva um programa que pergunte a distância de uma viagem em Km.\n",
    "Calcule o preço da passagem, cobrando R$ 0,50 por Km para viagens de até 200km\n",
    "e R$ 0,45 para viagens mais longas\n",
    "'''\n",
    "distancia = float(input('Quantos kilômetros foram percorridos?'))\n",
    "if distancia <= 200:\n",
    "    valor = distancia * 0.5\n",
    "    print('O valor da passagem é: R$ {}'.format(valor))\n",
    "else:\n",
    "    valor = distancia * 0.45\n",
    "    print('O valor da passagem é: R$ {}'.format(valor))"
   ]
  }
 ],
 "metadata": {
  "kernelspec": {
   "display_name": "base",
   "language": "python",
   "name": "python3"
  },
  "language_info": {
   "codemirror_mode": {
    "name": "ipython",
    "version": 3
   },
   "file_extension": ".py",
   "mimetype": "text/x-python",
   "name": "python",
   "nbconvert_exporter": "python",
   "pygments_lexer": "ipython3",
   "version": "3.11.5"
  }
 },
 "nbformat": 4,
 "nbformat_minor": 2
}
