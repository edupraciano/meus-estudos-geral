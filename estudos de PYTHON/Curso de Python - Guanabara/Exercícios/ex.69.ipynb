{
 "cells": [
  {
   "cell_type": "code",
   "execution_count": 6,
   "metadata": {},
   "outputs": [
    {
     "name": "stdout",
     "output_type": "stream",
     "text": [
      "Por favor, digite um número válido para a idade.\n",
      "Ao todo foram cadastrados 0 pessoas com mais de 18 anos.\n",
      "Dos quais 1 são homens com mais de 18 anos de idade e 0 são Mulheres com menos de 20 anos de idade.\n",
      "\n",
      "Programa Encerrado.\n"
     ]
    }
   ],
   "source": [
    "\"\"\"\n",
    "Ex.69 Crie um programa que leia a idade e o sexo de várias pessoas. A cada pessoa cadastrada, o programa deverá perguntar se o usuário quer ou não continuar. No final, mostre:\n",
    "A) quantas pessoas tem mais de 18 anos.\n",
    "B) quantos homens foram cadastrados.\n",
    "C) quantas mulheres tem menos de 20 anos.\n",
    "\"\"\"\n",
    "sair = 'N'\n",
    "cont = 1\n",
    "mais18 = qtdeHomens = qtdeMulheresMenor20 = 0\n",
    "\n",
    "while sair != 'S':\n",
    "\n",
    "    while True:\n",
    "        try:\n",
    "            idade = int(input(f'Digite a idade da {cont}ª pessoa: '))\n",
    "            if idade > 18:\n",
    "                mais18 += 1\n",
    "            break\n",
    "        except ValueError:\n",
    "            print(\"Por favor, digite um número válido para a idade.\")\n",
    "\n",
    "    sexo = ' '\n",
    "    while sexo not in 'MF':\n",
    "        sexo = str(input(f'Digite o sexo da {cont}ª pessoa: [M/F]')).strip().upper()[0]\n",
    "        if sexo == 'M':\n",
    "            qtdeHomens += 1\n",
    "        if sexo == 'F' and idade < 20:\n",
    "            qtdeMulheresMenor20 += 1\n",
    "        if sexo not in 'MF':\n",
    "            print('Informe o sexo corretamente: M para Masculino e F para Feminino.')\n",
    "\n",
    "    sair = ' '\n",
    "    while sair not in 'SN':\n",
    "        sair = str(input(f'Deseja SAIR? [S/N]')).strip().upper()[0]\n",
    "        if sair not in 'SN':\n",
    "            print('Digite: S para SAIR ou N para continuar.')\n",
    "\n",
    "    cont += 1\n",
    "\n",
    "    if sair == 'S':\n",
    "        break\n",
    "\n",
    "print(f'Ao todo foram cadastrados {mais18} pessoas com mais de 18 anos.')\n",
    "print(f'Dos quais {qtdeHomens} são homens com mais de 18 anos de idade e {qtdeMulheresMenor20} são Mulheres com menos de 20 anos de idade.')\n",
    "print('\\nPrograma Encerrado.')\n"
   ]
  }
 ],
 "metadata": {
  "kernelspec": {
   "display_name": "base",
   "language": "python",
   "name": "python3"
  },
  "language_info": {
   "codemirror_mode": {
    "name": "ipython",
    "version": 3
   },
   "file_extension": ".py",
   "mimetype": "text/x-python",
   "name": "python",
   "nbconvert_exporter": "python",
   "pygments_lexer": "ipython3",
   "version": "3.11.5"
  }
 },
 "nbformat": 4,
 "nbformat_minor": 2
}
