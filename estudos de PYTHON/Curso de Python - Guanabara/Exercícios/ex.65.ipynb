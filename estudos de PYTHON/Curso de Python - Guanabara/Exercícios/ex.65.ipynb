{
 "cells": [
  {
   "cell_type": "code",
   "execution_count": null,
   "metadata": {},
   "outputs": [],
   "source": [
    "\"\"\"\n",
    "Ex.65 Crie um programa que leia vários números inteiros pelo teclado. No final da execução, mostre a média entre todos os valores e qual foi o maior e o menor valores lidos. O programa deve perguntar ao usuário se ele quer ou não continuar a digitar valores.\n",
    "\"\"\"\n",
    "cont = soma = 0\n",
    "num = int(input('Digite um número: '))\n",
    "parar = ' '\n",
    "maior = menor = num\n",
    "\n",
    "while parar != 'S':\n",
    "    soma += num\n",
    "    cont += 1   \n",
    "    media = soma / cont\n",
    "\n",
    "    if num > maior:\n",
    "        maior = num\n",
    "    if num < menor:\n",
    "        menor = num\n",
    "\n",
    "    parar = input('Deseja parar? [S/N]: ').strip().upper()\n",
    "\n",
    "    while parar not in 'SN':\n",
    "        print('Opção inválida. Digite apenas \"S\" para parar ou \"N\" para continuar.')\n",
    "        parar = input('Deseja parar? [S/N]: ').strip().upper()\n",
    "\n",
    "    if parar == 'S':\n",
    "        break\n",
    "\n",
    "    num = int(input('Digite um número: '))\n",
    "\n",
    "print(f'Foram inseridos {cont} números. O maior número foi {maior} e o menor número foi {menor}.')\n",
    "print(f'A soma é {soma} e a média entre eles é {media:.2f}')"
   ]
  }
 ],
 "metadata": {
  "kernelspec": {
   "display_name": "base",
   "language": "python",
   "name": "python3"
  },
  "language_info": {
   "codemirror_mode": {
    "name": "ipython",
    "version": 3
   },
   "file_extension": ".py",
   "mimetype": "text/x-python",
   "name": "python",
   "nbconvert_exporter": "python",
   "pygments_lexer": "ipython3",
   "version": "3.11.5"
  }
 },
 "nbformat": 4,
 "nbformat_minor": 2
}
