{
 "cells": [
  {
   "cell_type": "code",
   "execution_count": 16,
   "metadata": {},
   "outputs": [
    {
     "name": "stdout",
     "output_type": "stream",
     "text": [
      "\n",
      "Na palavra APRENDER temos as vogais => a e e \n",
      "Na palavra ESTUDAR temos as vogais => e u a \n",
      "Na palavra RACIOCINAR temos as vogais => a i o i a \n",
      "Na palavra MATEMATICA temos as vogais => a e a i a \n",
      "Na palavra COMPUTADOR temos as vogais => o u a o \n",
      "Na palavra PROGRAMADOR temos as vogais => o a a o "
     ]
    }
   ],
   "source": [
    "\"\"\"\n",
    "Ex.77 Crie um programa que tenha uma tupla com várias palavras (não usar acentos). Depois disso, você deve mostrar, para cada palavra, quais são as suas vogais.\n",
    "\"\"\"\n",
    "palavras = ('aprender', 'estudar', 'raciocinar', 'matematica', 'computador', 'programador')\n",
    "\n",
    "for p in palavras:\n",
    "    print(f'\\nNa palavra {p.upper()} temos as vogais => ', end='')\n",
    "    for letra in p:\n",
    "        if letra.lower() in 'aeiou':\n",
    "            print(letra, end=' ')\n"
   ]
  }
 ],
 "metadata": {
  "kernelspec": {
   "display_name": "base",
   "language": "python",
   "name": "python3"
  },
  "language_info": {
   "codemirror_mode": {
    "name": "ipython",
    "version": 3
   },
   "file_extension": ".py",
   "mimetype": "text/x-python",
   "name": "python",
   "nbconvert_exporter": "python",
   "pygments_lexer": "ipython3",
   "version": "3.11.5"
  }
 },
 "nbformat": 4,
 "nbformat_minor": 2
}
