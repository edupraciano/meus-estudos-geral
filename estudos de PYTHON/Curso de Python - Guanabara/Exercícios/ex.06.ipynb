{
 "cells": [
  {
   "cell_type": "code",
   "execution_count": 3,
   "metadata": {},
   "outputs": [
    {
     "name": "stdout",
     "output_type": "stream",
     "text": [
      "Para o número 9 o seu dobro é 18, seu triplo é: 27 e a sua raiz quadrada é: 3\n"
     ]
    }
   ],
   "source": [
    "# Ex.06\n",
    "# Crie um algoritmo que leia um número e mostre o seu dobro, o seu triplo e sua raiz quadrada:\n",
    "import math\n",
    "num = 9\n",
    "dobro = num * 2\n",
    "triplo = num * 3\n",
    "raiz = int(math.sqrt(num))\n",
    "\n",
    "print('Para o número {} o seu dobro é {}, seu triplo é: {} e a sua raiz quadrada é: {}'.format(num, dobro, triplo, raiz))\n",
    "\n"
   ]
  }
 ],
 "metadata": {
  "kernelspec": {
   "display_name": "base",
   "language": "python",
   "name": "python3"
  },
  "language_info": {
   "codemirror_mode": {
    "name": "ipython",
    "version": 3
   },
   "file_extension": ".py",
   "mimetype": "text/x-python",
   "name": "python",
   "nbconvert_exporter": "python",
   "pygments_lexer": "ipython3",
   "version": "3.11.5"
  }
 },
 "nbformat": 4,
 "nbformat_minor": 2
}
