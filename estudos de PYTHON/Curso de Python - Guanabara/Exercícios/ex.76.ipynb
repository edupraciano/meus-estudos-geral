{
 "cells": [
  {
   "cell_type": "code",
   "execution_count": 38,
   "metadata": {},
   "outputs": [
    {
     "name": "stdout",
     "output_type": "stream",
     "text": [
      "========================================\n",
      "            Lista de Preços             \n",
      "========================================\n",
      "Lápis......................... R$  1.50\n",
      "Caderno....................... R$ 12.00\n",
      "Mochila....................... R$ 50.00\n",
      "Estojo........................ R$  6.60\n",
      "Canetas....................... R$ 21.90\n",
      "Compasso...................... R$  9.99\n",
      "Trasnferidor.................. R$ 16.70\n",
      "~~~~~~~~~~~~~~~~~~~~~~~~~~~~~~~~~~~~~~~~\n"
     ]
    }
   ],
   "source": [
    "\"\"\"\n",
    "Ex.76 Crie um programa que tenha uma tupla única com nomes de produtos e seus respectivos preços na sequência. No final, mostre uma listagem de preços, organizando os dados em forma tabular\n",
    "\"\"\"\n",
    "listagem = ('Lápis', 1.5,\n",
    "            'Caderno', 12,\n",
    "            'Mochila', 50,\n",
    "            'Estojo', 6.6,\n",
    "            'Canetas', 21.9,\n",
    "            'Compasso', 9.99,\n",
    "            'Trasnferidor', 16.7)\n",
    "\n",
    "print('='*40)\n",
    "print(f'{\"Lista de Preços\":^40}')\n",
    "print('='*40)\n",
    "for item in range(0, len(listagem)):\n",
    "    if item % 2 == 0:\n",
    "        print(f'{listagem[item]:.<30} ', end='')\n",
    "    else:\n",
    "        print(f'R$ {listagem[item]:>5.2f}')\n",
    "print('~~'*20)\n",
    "        \n"
   ]
  }
 ],
 "metadata": {
  "kernelspec": {
   "display_name": "base",
   "language": "python",
   "name": "python3"
  },
  "language_info": {
   "codemirror_mode": {
    "name": "ipython",
    "version": 3
   },
   "file_extension": ".py",
   "mimetype": "text/x-python",
   "name": "python",
   "nbconvert_exporter": "python",
   "pygments_lexer": "ipython3",
   "version": "3.11.5"
  }
 },
 "nbformat": 4,
 "nbformat_minor": 2
}
