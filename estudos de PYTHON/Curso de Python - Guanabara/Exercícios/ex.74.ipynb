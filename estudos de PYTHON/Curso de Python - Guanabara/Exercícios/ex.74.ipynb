{
 "cells": [
  {
   "cell_type": "code",
   "execution_count": 25,
   "metadata": {},
   "outputs": [
    {
     "name": "stdout",
     "output_type": "stream",
     "text": [
      "Os números sorteados são: (6, 9, 31, 11, 43)\n",
      "O Maior valor é: 43\n",
      "O Menor valor é: 6\n"
     ]
    }
   ],
   "source": [
    "\"\"\"\n",
    "Ex.74 Crie um programa que vai gerar cinco números aleatórios e colocar em uma tupla. Depois disso, mostre a listagem de números gerados e também indique o menor e o maior valor que estão na tupla.\n",
    "\"\"\"\n",
    "from random import randint\n",
    "\n",
    "numeros = tuple(randint(0, 100) for _ in range(5))\n",
    "\n",
    "print(f'Os números sorteados são: {numeros}')\n",
    "print(f'O Maior valor é: {max(numeros)}')\n",
    "print(f'O Menor valor é: {min(numeros)}')\n",
    "\n"
   ]
  }
 ],
 "metadata": {
  "kernelspec": {
   "display_name": "base",
   "language": "python",
   "name": "python3"
  },
  "language_info": {
   "codemirror_mode": {
    "name": "ipython",
    "version": 3
   },
   "file_extension": ".py",
   "mimetype": "text/x-python",
   "name": "python",
   "nbconvert_exporter": "python",
   "pygments_lexer": "ipython3",
   "version": "3.11.5"
  }
 },
 "nbformat": 4,
 "nbformat_minor": 2
}
