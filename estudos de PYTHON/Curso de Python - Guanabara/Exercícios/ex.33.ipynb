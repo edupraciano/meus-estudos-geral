{
 "cells": [
  {
   "cell_type": "code",
   "execution_count": 13,
   "metadata": {},
   "outputs": [
    {
     "name": "stdout",
     "output_type": "stream",
     "text": [
      "O menor número é: 7 e o Maior é: 23\n"
     ]
    }
   ],
   "source": [
    "'''\n",
    "Ex.33 Faça um programa que leia três números e mostre qual é o maior e qual é o menor\n",
    "'''\n",
    "n1 = int(input(\"Digite um primeiro número: \\n\"))\n",
    "n2 = int(input(\"Digite um segundo número: \\n\"))\n",
    "n3 = int(input(\"Digite um terceiro e último número: \\n\"))\n",
    "\n",
    "if (n1 < n2 and n1 < n3):\n",
    "    menor = n1   \n",
    "elif (n2 < n1 and n2 < n3):\n",
    "    menor = n2    \n",
    "else:\n",
    "    menor = n3\n",
    "\n",
    "if(n1 > n2 and n1 > n3):\n",
    "    maior = n1 \n",
    "elif(n2 > n1 and n2 > n3):\n",
    "    maior = n2\n",
    "else:\n",
    "    maior = n3\n",
    "\n",
    "print('O menor número é: {} e o Maior é: {}'.format(menor, maior))\n",
    "    "
   ]
  },
  {
   "cell_type": "code",
   "execution_count": null,
   "metadata": {},
   "outputs": [],
   "source": []
  }
 ],
 "metadata": {
  "kernelspec": {
   "display_name": "base",
   "language": "python",
   "name": "python3"
  },
  "language_info": {
   "codemirror_mode": {
    "name": "ipython",
    "version": 3
   },
   "file_extension": ".py",
   "mimetype": "text/x-python",
   "name": "python",
   "nbconvert_exporter": "python",
   "pygments_lexer": "ipython3",
   "version": "3.11.5"
  }
 },
 "nbformat": 4,
 "nbformat_minor": 2
}
