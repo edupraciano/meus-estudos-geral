{
 "cells": [
  {
   "cell_type": "code",
   "execution_count": 15,
   "metadata": {},
   "outputs": [
    {
     "name": "stdout",
     "output_type": "stream",
     "text": [
      "Para os alunos que fazem parte da lista para o sorteio, \"marcos\" foi o escolhido\n"
     ]
    }
   ],
   "source": [
    "# Ex.19\n",
    "# Um professor quer sortear um dos seus quatro alunos para apagar o quadro.\n",
    "# Faça um programa que ajude ele, lendo o nome deles e escrevendo o do escolhido.\n",
    "\n",
    "import random\n",
    "nome1 = input('Primeiro Nome')\n",
    "nome2 = input('segundo Nome')\n",
    "nome3 = input('terceiro Nome')\n",
    "nome4 = input('quarto Nome')\n",
    "\n",
    "lista = [nome1, nome2, nome3, nome4]\n",
    "\n",
    "\n",
    "escolhido = random.choice(lista)\n",
    "print('Para os alunos que fazem parte da lista para o sorteio, \"{}\" foi o escolhido'.format(escolhido))\n",
    "\n",
    "\n"
   ]
  }
 ],
 "metadata": {
  "kernelspec": {
   "display_name": "base",
   "language": "python",
   "name": "python3"
  },
  "language_info": {
   "codemirror_mode": {
    "name": "ipython",
    "version": 3
   },
   "file_extension": ".py",
   "mimetype": "text/x-python",
   "name": "python",
   "nbconvert_exporter": "python",
   "pygments_lexer": "ipython3",
   "version": "3.11.5"
  }
 },
 "nbformat": 4,
 "nbformat_minor": 2
}
