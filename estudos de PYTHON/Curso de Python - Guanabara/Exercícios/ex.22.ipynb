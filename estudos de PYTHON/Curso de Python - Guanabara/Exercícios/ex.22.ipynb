{
 "cells": [
  {
   "cell_type": "code",
   "execution_count": 20,
   "metadata": {},
   "outputs": [
    {
     "name": "stdout",
     "output_type": "stream",
     "text": [
      "Eduardo Praciano Rodrigues Neto\n",
      "Seu nome escrito todo em letras minúsculas é: eduardo praciano rodrigues neto\n",
      "Seu nome escrito todo em letras Maiúsculas é: EDUARDO PRACIANO RODRIGUES NETO\n",
      "Seu nome completo tem ao todo: 31 caracteres (levando em conta os espaços entre os nomes.)\n",
      "Seu primeiro nome é: Eduardo.\n",
      "Seu último nome é: Neto\n"
     ]
    }
   ],
   "source": [
    "# Ex.22\n",
    "# Crie um programa que leia o nome completo de uma pessoa:\n",
    "# > O nome com todas as letras maiúsculas\n",
    "# > O nome com todas minúsculas\n",
    "# > Quantas letras ao todo (sem considerar espaços)\n",
    "# > Quantas letras tem o primeiro nome:\n",
    "\n",
    "nomeCompleto = input(\"Digite seu nome completo: \")\n",
    "primeiroNome = nomeCompleto.split(\" \")[0]\n",
    "\n",
    "print(nomeCompleto)\n",
    "print(\"Seu nome escrito todo em letras minúsculas é: {}\".format(nomeCompleto.lower()))\n",
    "print(\"Seu nome escrito todo em letras Maiúsculas é: {}\".format(nomeCompleto.upper()))\n",
    "print(\n",
    "    \"Seu nome completo tem ao todo: {} caracteres (levando em conta os espaços entre os nomes.)\".format(\n",
    "        len(nomeCompleto.strip())\n",
    "    )\n",
    ")\n",
    "print(\"Seu primeiro nome é: {}.\".format(nomeCompleto.split(\" \")[0]))\n",
    "print(\"Seu último nome é: {}\".format(nomeCompleto.split(\" \")[3]))"
   ]
  }
 ],
 "metadata": {
  "kernelspec": {
   "display_name": "base",
   "language": "python",
   "name": "python3"
  },
  "language_info": {
   "codemirror_mode": {
    "name": "ipython",
    "version": 3
   },
   "file_extension": ".py",
   "mimetype": "text/x-python",
   "name": "python",
   "nbconvert_exporter": "python",
   "pygments_lexer": "ipython3",
   "version": "3.11.5"
  }
 },
 "nbformat": 4,
 "nbformat_minor": 2
}
