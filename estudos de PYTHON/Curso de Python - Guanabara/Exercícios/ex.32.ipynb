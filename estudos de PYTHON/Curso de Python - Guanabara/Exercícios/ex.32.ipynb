{
 "cells": [
  {
   "cell_type": "code",
   "execution_count": 10,
   "metadata": {},
   "outputs": [
    {
     "name": "stdout",
     "output_type": "stream",
     "text": [
      "Ano Bissexto\n"
     ]
    }
   ],
   "source": [
    "\"\"\"\n",
    "Ex.32 Faça um programa que leia um ano qualquer e mostre se ele é BISSEXTO\n",
    "\"\"\"\n",
    "ano = int(input(\"Digite um ano\"))\n",
    "\n",
    "if (ano % 4 == 0 and ano % 100 != 0) or (ano % 400 == 0):\n",
    "    print(\"Ano Bissexto\")\n",
    "else:\n",
    "    print(\"Ano NÃO Bissexto\")"
   ]
  }
 ],
 "metadata": {
  "kernelspec": {
   "display_name": "base",
   "language": "python",
   "name": "python3"
  },
  "language_info": {
   "codemirror_mode": {
    "name": "ipython",
    "version": 3
   },
   "file_extension": ".py",
   "mimetype": "text/x-python",
   "name": "python",
   "nbconvert_exporter": "python",
   "pygments_lexer": "ipython3",
   "version": "3.11.5"
  }
 },
 "nbformat": 4,
 "nbformat_minor": 2
}
