{
 "cells": [
  {
   "cell_type": "code",
   "execution_count": 14,
   "metadata": {},
   "outputs": [
    {
     "name": "stdout",
     "output_type": "stream",
     "text": [
      "Foram contabilizados 2 números e a soma entre eles é 6.\n"
     ]
    }
   ],
   "source": [
    "\"\"\"\n",
    "Ex.64 Crie um programa que leia vários números inteiros pelo teclado. O programa só vai parar quando o usuário digitar o valor 999, que é a condição de parada. No final, mostre quantos números foram digitados e qual foi a soma entre eles (desconsiderando o flag).\n",
    "\"\"\"\n",
    "n = cont = soma = 0\n",
    "n = int(input('Digite um número [999] para sair.'))\n",
    "while n != 999:\n",
    "    soma += n\n",
    "    cont += 1\n",
    "    n = int(input('Digite um número [999] para sair.'))\n",
    "print(f'Foram contabilizados {cont} números e a soma entre eles é {soma}.')"
   ]
  }
 ],
 "metadata": {
  "kernelspec": {
   "display_name": "base",
   "language": "python",
   "name": "python3"
  },
  "language_info": {
   "codemirror_mode": {
    "name": "ipython",
    "version": 3
   },
   "file_extension": ".py",
   "mimetype": "text/x-python",
   "name": "python",
   "nbconvert_exporter": "python",
   "pygments_lexer": "ipython3",
   "version": "3.11.5"
  }
 },
 "nbformat": 4,
 "nbformat_minor": 2
}
