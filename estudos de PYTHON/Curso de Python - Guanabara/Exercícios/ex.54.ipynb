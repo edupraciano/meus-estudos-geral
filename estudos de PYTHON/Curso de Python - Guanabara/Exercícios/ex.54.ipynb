{
 "cells": [
  {
   "cell_type": "code",
   "execution_count": 18,
   "metadata": {},
   "outputs": [
    {
     "name": "stdout",
     "output_type": "stream",
     "text": [
      "Existem 5 pessoas maiores de iddee e 2 pessoa(s) com menos de 21 anos de idade\n"
     ]
    }
   ],
   "source": [
    "\"\"\"\n",
    "Ex.54 Crie um programa que leia o ano de nascimento de sete pessoas. No final, mostre quantas pessoas ainda não atingiram a maioridade e quantas já são maiores.\n",
    "\"\"\"\n",
    "from datetime import date\n",
    "ano_atual = date.today().year\n",
    "total_maior = 0\n",
    "total_menor = 0\n",
    "for i in range(1, 8):\n",
    "    nasc = int(input(\"Em que ano a {}ª pessoa nasceu?\".format(i)))\n",
    "    idade = ano_atual - nasc\n",
    "    if idade >= 21:\n",
    "        total_maior += 1\n",
    "    else:\n",
    "        total_menor += 1\n",
    "print(\"Existem {} pessoas maiores de iddee e {} pessoa(s) com menos de 21 anos de idade\".format(total_maior,total_menor))"
   ]
  }
 ],
 "metadata": {
  "kernelspec": {
   "display_name": "base",
   "language": "python",
   "name": "python3"
  },
  "language_info": {
   "codemirror_mode": {
    "name": "ipython",
    "version": 3
   },
   "file_extension": ".py",
   "mimetype": "text/x-python",
   "name": "python",
   "nbconvert_exporter": "python",
   "pygments_lexer": "ipython3",
   "version": "3.11.5"
  }
 },
 "nbformat": 4,
 "nbformat_minor": 2
}
