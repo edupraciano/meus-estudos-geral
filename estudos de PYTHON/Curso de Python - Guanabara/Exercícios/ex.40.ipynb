{
 "cells": [
  {
   "cell_type": "code",
   "execution_count": 5,
   "metadata": {},
   "outputs": [
    {
     "name": "stdout",
     "output_type": "stream",
     "text": [
      "O aluno Passou de Ano!\n"
     ]
    }
   ],
   "source": [
    "\"\"\"\n",
    "Ex.40 Crie um programa que leia duas notas de um aluno e calcule sua média,\n",
    "mostrando uma mensagem no final, de acordo com a média atingida:\n",
    "\n",
    "- média abaixo de 5.0: reprovado\n",
    "- média entre 5.0 e 6,9: recuperação\n",
    "- média 7.0 ou superior: aprovado\n",
    "\"\"\"\n",
    "nota1 = float(input(\"Digite a primeira nota.\"))\n",
    "nota2 = float(input(\"Digite a segunda nota.\"))\n",
    "media = (nota1 + nota2) / 2\n",
    "if media < 5:\n",
    "    print(\"O aluno está Reprovado!\")\n",
    "elif media >= 5 and media < 7:\n",
    "    print(\"O aluno está Em Recuperação!\")\n",
    "elif media >= 7 and media < 10:\n",
    "    print(\"O aluno Passou de Ano!\")\n",
    "else:\n",
    "    print(\"O Aluno passou de ano com louvor\")"
   ]
  },
  {
   "cell_type": "code",
   "execution_count": null,
   "metadata": {},
   "outputs": [],
   "source": []
  }
 ],
 "metadata": {
  "kernelspec": {
   "display_name": "base",
   "language": "python",
   "name": "python3"
  },
  "language_info": {
   "codemirror_mode": {
    "name": "ipython",
    "version": 3
   },
   "file_extension": ".py",
   "mimetype": "text/x-python",
   "name": "python",
   "nbconvert_exporter": "python",
   "pygments_lexer": "ipython3",
   "version": "3.11.5"
  }
 },
 "nbformat": 4,
 "nbformat_minor": 2
}
