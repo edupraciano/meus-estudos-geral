{
 "cells": [
  {
   "cell_type": "code",
   "execution_count": 7,
   "metadata": {},
   "outputs": [
    {
     "name": "stdout",
     "output_type": "stream",
     "text": [
      "-=-=-=-=-=-=-=-=-=-=-=-=-=-=-=-=-=-=-=-=-=-=-=-=-=-=-=-=-=-=\n",
      "  -- nome é igual a Eduardo Praciano\n",
      "  -- média é igual a 9.0\n",
      "  -- situação é igual a Aprovado\n"
     ]
    }
   ],
   "source": [
    "\"\"\"\n",
    "Ex.90 Faça um programa que leia nome e média de um aluno, guardando também a situação em um dicionário. No final, mostre o conteúdo da estrutura na tela.\n",
    "\"\"\"\n",
    "aluno = {}\n",
    "aluno['nome'] = str(input('Nome:'))\n",
    "aluno['média'] = float(input(f'Média do aluno {aluno[\"nome\"]}: '))\n",
    "if aluno['média'] >= 7:\n",
    "    aluno['situação'] = 'Aprovado'\n",
    "elif aluno['média'] >=3 and aluno['média']:\n",
    "    aluno['situação'] = 'Recuperação'\n",
    "else:\n",
    "    aluno['situação'] = 'Reprovado'\n",
    "print('-=' * 30)\n",
    "for k, v in aluno.items():    \n",
    "    print(f'  -- {k} é igual a {v}')\n"
   ]
  }
 ],
 "metadata": {
  "kernelspec": {
   "display_name": "base",
   "language": "python",
   "name": "python3"
  },
  "language_info": {
   "codemirror_mode": {
    "name": "ipython",
    "version": 3
   },
   "file_extension": ".py",
   "mimetype": "text/x-python",
   "name": "python",
   "nbconvert_exporter": "python",
   "pygments_lexer": "ipython3",
   "version": "3.11.5"
  }
 },
 "nbformat": 4,
 "nbformat_minor": 2
}
