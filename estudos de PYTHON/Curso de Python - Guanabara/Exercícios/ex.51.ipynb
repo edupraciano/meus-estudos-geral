{
 "cells": [
  {
   "cell_type": "code",
   "execution_count": 10,
   "metadata": {},
   "outputs": [
    {
     "name": "stdout",
     "output_type": "stream",
     "text": [
      "2 => 3 => 4 => 5 => 6 => 7 => 8 => 9 => 10 => 11 => Acabou\n"
     ]
    }
   ],
   "source": [
    "\"\"\"\n",
    "Ex.51 Desenvolva um programa que leia o primeiro termo e a razão de uma PA. No final, mostre os 10 primeiros termos dessa progressão.\n",
    "\"\"\"\n",
    "primeiro = int(input('Digite o primeiro número da P.A.'))\n",
    "razão = int(input('Digite a razão dessa P.A.'))\n",
    "\n",
    "decimo = primeiro + (10 - 1) * razão\n",
    "\n",
    "for c in range(primeiro, decimo + razão, razão):\n",
    "    print('{}'.format(c), end=' => ')\n",
    "print('Acabou')\n",
    "\n"
   ]
  },
  {
   "cell_type": "code",
   "execution_count": null,
   "metadata": {},
   "outputs": [],
   "source": []
  }
 ],
 "metadata": {
  "kernelspec": {
   "display_name": "base",
   "language": "python",
   "name": "python3"
  },
  "language_info": {
   "codemirror_mode": {
    "name": "ipython",
    "version": 3
   },
   "file_extension": ".py",
   "mimetype": "text/x-python",
   "name": "python",
   "nbconvert_exporter": "python",
   "pygments_lexer": "ipython3",
   "version": "3.11.5"
  }
 },
 "nbformat": 4,
 "nbformat_minor": 2
}
