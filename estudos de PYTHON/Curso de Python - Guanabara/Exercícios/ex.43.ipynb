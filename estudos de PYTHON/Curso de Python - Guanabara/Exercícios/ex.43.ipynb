{
 "cells": [
  {
   "cell_type": "code",
   "execution_count": 7,
   "metadata": {},
   "outputs": [
    {
     "name": "stdout",
     "output_type": "stream",
     "text": [
      "27.041644131963228\n",
      " Seu IMC = 27.041644131963228 o que significa: sobrepeso\n"
     ]
    }
   ],
   "source": [
    "\"\"\"\n",
    "Ex.43 Desenvolva uma lógica que leia o peso e a altura de uma pessoa, calcule seu IMC\n",
    "e mostre seu status, e acordo com a tabela abaixo:\n",
    "\n",
    "- abaixo de 18.5: abaixo do peso\n",
    "- entre 18.5 e 25: peso ideal\n",
    "- 25 até 30: sobrepeso\n",
    "- 30 até 40: obesidade\n",
    "- acima de 40: obesidade mórbida\n",
    "\"\"\"\n",
    "\n",
    "peso = float(input(\"Entre com o peso\"))\n",
    "altura = float(input(\"Entre com a altura\"))\n",
    "imc = peso / (altura * altura)\n",
    "\n",
    "if imc < 18.5:\n",
    "    print(f\" Seu IMC = {imc} o que significa: abaixo do peso\")\n",
    "elif imc >= 18.5 and imc <= 25:\n",
    "    print(f\" Seu IMC = {imc} o que significa: peso ideal\")\n",
    "elif imc > 25 and imc <= 30:\n",
    "    print(f\" Seu IMC = {imc} o que significa: sobrepeso\")\n",
    "elif imc > 30 and imc <= 40:\n",
    "    print(f\" Seu IMC = {imc} o que significa: obesidade\")\n",
    "else:\n",
    "    print(\"obesidade mórbida\")"
   ]
  },
  {
   "cell_type": "code",
   "execution_count": null,
   "metadata": {},
   "outputs": [],
   "source": []
  }
 ],
 "metadata": {
  "kernelspec": {
   "display_name": "base",
   "language": "python",
   "name": "python3"
  },
  "language_info": {
   "codemirror_mode": {
    "name": "ipython",
    "version": 3
   },
   "file_extension": ".py",
   "mimetype": "text/x-python",
   "name": "python",
   "nbconvert_exporter": "python",
   "pygments_lexer": "ipython3",
   "version": "3.11.5"
  }
 },
 "nbformat": 4,
 "nbformat_minor": 2
}
