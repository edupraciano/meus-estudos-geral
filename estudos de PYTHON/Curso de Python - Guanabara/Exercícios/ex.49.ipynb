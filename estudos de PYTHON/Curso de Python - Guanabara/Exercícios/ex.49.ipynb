{
 "cells": [
  {
   "cell_type": "code",
   "execution_count": 13,
   "metadata": {},
   "outputs": [
    {
     "name": "stdout",
     "output_type": "stream",
     "text": [
      "-=-=-=-=-=-=\n",
      "9 X  1 =  9\n",
      "9 X  2 = 18\n",
      "9 X  3 = 27\n",
      "9 X  4 = 36\n",
      "9 X  5 = 45\n",
      "9 X  6 = 54\n",
      "9 X  7 = 63\n",
      "9 X  8 = 72\n",
      "9 X  9 = 81\n",
      "9 X 10 = 90\n",
      "-=-=-=-=-=-=\n"
     ]
    }
   ],
   "source": [
    "\"\"\"\n",
    "Ex.49 Refaça o DESAFIO 9, mostrando a tabuada de um número que o usuário escolher, só que agora utilizando um laço for.\n",
    "\"\"\"\n",
    "num = int(input(\"Diga qual Tabuada você gostaria de ver...\"))\n",
    "print(\"-=\" * 6)\n",
    "for i in range(1, 11):\n",
    "    print(\"{} X {:2} = {:2}\".format(num, i, num * i))\n",
    "print(\"-=\" * 6)"
   ]
  },
  {
   "cell_type": "code",
   "execution_count": null,
   "metadata": {},
   "outputs": [],
   "source": []
  }
 ],
 "metadata": {
  "kernelspec": {
   "display_name": "base",
   "language": "python",
   "name": "python3"
  },
  "language_info": {
   "codemirror_mode": {
    "name": "ipython",
    "version": 3
   },
   "file_extension": ".py",
   "mimetype": "text/x-python",
   "name": "python",
   "nbconvert_exporter": "python",
   "pygments_lexer": "ipython3",
   "version": "3.11.5"
  }
 },
 "nbformat": 4,
 "nbformat_minor": 2
}
