{
 "cells": [
  {
   "cell_type": "code",
   "execution_count": 12,
   "metadata": {},
   "outputs": [
    {
     "name": "stdout",
     "output_type": "stream",
     "text": [
      "Sequência de Fibonacci com 12 termos:\n",
      "\n",
      "0 -> 1 -> 1 -> 2 -> 3 -> 5 -> 8 -> 13 -> 21 -> 34 -> 55 -> 89 \n"
     ]
    }
   ],
   "source": [
    "\"\"\"\n",
    "Ex.63 Escreva um programa que leia um número N inteiro qualquer e mostre na tela os N primeiros elementos de uma Sequência de Fibonacci. Exemplo:\n",
    "0 – 1 – 1 – 2 – 3 – 5 – 8\n",
    "\"\"\"\n",
    "n = int(input(\"Digite um número inteiro N: \"))\n",
    "\n",
    "# Inicializa os dois primeiros números da sequência\n",
    "a, b = 0, 1\n",
    "\n",
    "print(\"Sequência de Fibonacci com {} termos:\".format(n))\n",
    "print()\n",
    "\n",
    "if n >= 1:\n",
    "    print(a, end=' ')\n",
    "if n >= 2:\n",
    "    print('->', b, end=' ')\n",
    "\n",
    "count = 2\n",
    "\n",
    "while count < n:\n",
    "    temp = a\n",
    "    a = b\n",
    "    b = temp + b\n",
    "    print('->', b, end=' ')\n",
    "    count += 1\n",
    "\n",
    "print()  # Pula uma linha no final\n"
   ]
  }
 ],
 "metadata": {
  "kernelspec": {
   "display_name": "base",
   "language": "python",
   "name": "python3"
  },
  "language_info": {
   "codemirror_mode": {
    "name": "ipython",
    "version": 3
   },
   "file_extension": ".py",
   "mimetype": "text/x-python",
   "name": "python",
   "nbconvert_exporter": "python",
   "pygments_lexer": "ipython3",
   "version": "3.11.5"
  }
 },
 "nbformat": 4,
 "nbformat_minor": 2
}
