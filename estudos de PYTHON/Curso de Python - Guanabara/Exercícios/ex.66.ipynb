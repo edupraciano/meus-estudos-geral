{
 "cells": [
  {
   "cell_type": "code",
   "execution_count": 1,
   "metadata": {},
   "outputs": [
    {
     "name": "stdout",
     "output_type": "stream",
     "text": [
      "A Soma dos 3 valores é 21.\n"
     ]
    }
   ],
   "source": [
    "\"\"\"\n",
    "Ex.66 Crie um programa que leia números inteiros pelo teclado. O programa só vai parar quando o usuário digitar o valor 999, que é a condição de parada. No final, mostre quantos números foram digitados e qual foi a soma entre elas (desconsiderando o flag).\n",
    "\"\"\"\n",
    "num = soma = cont = 0\n",
    "while True:\n",
    "    num = int(input('Digite um Número: '))\n",
    "    if num == 999:\n",
    "        break\n",
    "    soma += num\n",
    "    cont += 1\n",
    "print(f'A Soma dos {cont} números que você digitou é {soma}.')\n"
   ]
  }
 ],
 "metadata": {
  "kernelspec": {
   "display_name": "base",
   "language": "python",
   "name": "python3"
  },
  "language_info": {
   "codemirror_mode": {
    "name": "ipython",
    "version": 3
   },
   "file_extension": ".py",
   "mimetype": "text/x-python",
   "name": "python",
   "nbconvert_exporter": "python",
   "pygments_lexer": "ipython3",
   "version": "3.11.5"
  }
 },
 "nbformat": 4,
 "nbformat_minor": 2
}
