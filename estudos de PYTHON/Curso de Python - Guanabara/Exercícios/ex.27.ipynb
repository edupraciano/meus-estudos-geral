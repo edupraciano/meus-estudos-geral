{
 "cells": [
  {
   "cell_type": "code",
   "execution_count": 13,
   "metadata": {},
   "outputs": [
    {
     "name": "stdout",
     "output_type": "stream",
     "text": [
      "Neto\n",
      "Seu primeiro nome é: Eduardo\n",
      "Seu último nome é: Neto\n"
     ]
    }
   ],
   "source": [
    "# Ex.27\n",
    "# Faça um programa que leia o nome completo de uma pessoa, mostrando em seguida o primeiro e o último nome separadamente\n",
    "\n",
    "# Ex.: Ana Maria de Souza\n",
    "# Primeiro = Ana\n",
    "# Último: Souza\n",
    "\n",
    "nome = input(\"Digite seu Nome\")\n",
    "print((nome.split(\" \"))[len(nome.split(\" \")) - 1])\n",
    "\n",
    "print('Seu primeiro nome é: {}'.format(nome.split(' ')[0]))\n",
    "\n",
    "print('Seu último nome é: {}'.format((nome.split(\" \"))[len(nome.split(\" \")) - 1]))"
   ]
  },
  {
   "cell_type": "code",
   "execution_count": null,
   "metadata": {},
   "outputs": [],
   "source": []
  }
 ],
 "metadata": {
  "kernelspec": {
   "display_name": "base",
   "language": "python",
   "name": "python3"
  },
  "language_info": {
   "codemirror_mode": {
    "name": "ipython",
    "version": 3
   },
   "file_extension": ".py",
   "mimetype": "text/x-python",
   "name": "python",
   "nbconvert_exporter": "python",
   "pygments_lexer": "ipython3",
   "version": "3.11.5"
  }
 },
 "nbformat": 4,
 "nbformat_minor": 2
}
