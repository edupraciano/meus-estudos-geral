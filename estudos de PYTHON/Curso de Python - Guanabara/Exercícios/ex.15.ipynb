{
 "cells": [
  {
   "cell_type": "code",
   "execution_count": 2,
   "metadata": {},
   "outputs": [
    {
     "name": "stdout",
     "output_type": "stream",
     "text": [
      "Para 100.0 Km rodados durante 2 dias, o valor do aluguel é de R$ 135.0\n"
     ]
    }
   ],
   "source": [
    "# Ex.15\n",
    "# Aluguel de carros:\n",
    "\n",
    "# Escreva um programa que pergunte a quantidade de Km percorridos por um carro alugado e a quantidade de dias pelos quais ele foi alugado\n",
    "\n",
    "# Calcule o preço a pagar, sabendo que o carro custa R$ 60 por dia e R$ 0.15 por km rodado\n",
    "\n",
    "km_rodado = float(input('Quantos kilômetros vc rodou com o carro?'))\n",
    "dias = int(input('Quantos dias você esteve com o carro?'))\n",
    "kilometragem = km_rodado * 0.15\n",
    "diasAlugado = dias * 60\n",
    "valorAPagar = kilometragem + diasAlugado\n",
    "\n",
    "print('Para {} Km rodados durante {} dias, o valor do aluguel é de R$ {}'.format(km_rodado, dias, valorAPagar))\n"
   ]
  }
 ],
 "metadata": {
  "kernelspec": {
   "display_name": "base",
   "language": "python",
   "name": "python3"
  },
  "language_info": {
   "codemirror_mode": {
    "name": "ipython",
    "version": 3
   },
   "file_extension": ".py",
   "mimetype": "text/x-python",
   "name": "python",
   "nbconvert_exporter": "python",
   "pygments_lexer": "ipython3",
   "version": "3.11.5"
  }
 },
 "nbformat": 4,
 "nbformat_minor": 2
}
