{
 "cells": [
  {
   "cell_type": "code",
   "execution_count": 49,
   "metadata": {},
   "outputs": [
    {
     "name": "stdout",
     "output_type": "stream",
     "text": [
      "O Número 5 É PRIMO.\n"
     ]
    }
   ],
   "source": [
    "\"\"\"\n",
    "Ex.52 Faça um programa que leia um número inteiro e diga se ele é ou não um número primo.\n",
    "\"\"\"\n",
    "num = int(input(\"Digite um número inteiro positivo: \"))\n",
    "primo = True\n",
    "\n",
    "if num <= 1:\n",
    "    print('O número {} NÃO É PRIMO'.format(num))\n",
    "else:\n",
    "    for i in range(2, num - 1):\n",
    "        if num % i == 0:\n",
    "            primo = False\n",
    "            break\n",
    "    \n",
    "    if primo == True:\n",
    "        print('O Número {} É PRIMO.'.format(num))\n",
    "    else:\n",
    "        print('O Número {} NÃO É PRIMO.'.format(num))"
   ]
  }
 ],
 "metadata": {
  "kernelspec": {
   "display_name": "base",
   "language": "python",
   "name": "python3"
  },
  "language_info": {
   "codemirror_mode": {
    "name": "ipython",
    "version": 3
   },
   "file_extension": ".py",
   "mimetype": "text/x-python",
   "name": "python",
   "nbconvert_exporter": "python",
   "pygments_lexer": "ipython3",
   "version": "3.11.5"
  }
 },
 "nbformat": 4,
 "nbformat_minor": 2
}
