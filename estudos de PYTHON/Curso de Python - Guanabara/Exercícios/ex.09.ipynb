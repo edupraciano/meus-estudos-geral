{
 "cells": [
  {
   "cell_type": "code",
   "execution_count": 8,
   "metadata": {},
   "outputs": [
    {
     "name": "stdout",
     "output_type": "stream",
     "text": [
      "=============\n",
      "9  X  1 = 9\n",
      "9  X  2 = 18\n",
      "9  X  3 = 27\n",
      "9  X  4 = 36\n",
      "9  X  5 = 45\n",
      "9  X  6 = 54\n",
      "9  X  7 = 63\n",
      "9  X  8 = 72\n",
      "9  X  9 = 81\n",
      "9  X 10 = 90\n",
      "=============\n"
     ]
    }
   ],
   "source": [
    "# Ex.09\n",
    "# Faça um programa que leia um número inteiro qualquer\n",
    "# e mostre na tela a sua tabuada\n",
    "\n",
    "tabuada = int(input('Digite um número para ver sua tabuada.'))\n",
    "print('=============')\n",
    "print('{}  X  1 = {}'.format(tabuada, tabuada * 1))\n",
    "print('{}  X  2 = {}'.format(tabuada, tabuada * 2))\n",
    "print('{}  X  3 = {}'.format(tabuada, tabuada * 3))\n",
    "print('{}  X  4 = {}'.format(tabuada, tabuada * 4))\n",
    "print('{}  X  5 = {}'.format(tabuada, tabuada * 5))\n",
    "print('{}  X  6 = {}'.format(tabuada, tabuada * 6))\n",
    "print('{}  X  7 = {}'.format(tabuada, tabuada * 7))\n",
    "print('{}  X  8 = {}'.format(tabuada, tabuada * 8))\n",
    "print('{}  X  9 = {}'.format(tabuada, tabuada * 9))\n",
    "print('{}  X 10 = {}'.format(tabuada, tabuada * 10))\n",
    "print('=============')\n",
    "\n",
    "\n"
   ]
  },
  {
   "cell_type": "code",
   "execution_count": null,
   "metadata": {},
   "outputs": [],
   "source": []
  }
 ],
 "metadata": {
  "kernelspec": {
   "display_name": "base",
   "language": "python",
   "name": "python3"
  },
  "language_info": {
   "codemirror_mode": {
    "name": "ipython",
    "version": 3
   },
   "file_extension": ".py",
   "mimetype": "text/x-python",
   "name": "python",
   "nbconvert_exporter": "python",
   "pygments_lexer": "ipython3",
   "version": "3.11.5"
  }
 },
 "nbformat": 4,
 "nbformat_minor": 2
}
