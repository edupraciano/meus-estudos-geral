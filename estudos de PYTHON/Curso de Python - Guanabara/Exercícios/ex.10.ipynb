{
 "cells": [
  {
   "cell_type": "code",
   "execution_count": 6,
   "metadata": {},
   "outputs": [
    {
     "name": "stdout",
     "output_type": "stream",
     "text": [
      "Com R$ 8.0 você consegue trocar por US$ 26.16 dolares.\n"
     ]
    }
   ],
   "source": [
    "# Ex.10\n",
    "# Crie um programa que leia quanto dinheiro uma pessoa tem na carteira e mostre quantos dólares ela pode comprar\n",
    "# Considere R$ 3.27 = US$ 1\n",
    "\n",
    "real = float(input('Quantos reais você tem na carteira?'))\n",
    "dolar = real * 3.27\n",
    "\n",
    "print('Com R$ {} você consegue trocar por US$ {:.2f} dolares.'.format(real, dolar))\n",
    "\n",
    "\n"
   ]
  }
 ],
 "metadata": {
  "kernelspec": {
   "display_name": "base",
   "language": "python",
   "name": "python3"
  },
  "language_info": {
   "codemirror_mode": {
    "name": "ipython",
    "version": 3
   },
   "file_extension": ".py",
   "mimetype": "text/x-python",
   "name": "python",
   "nbconvert_exporter": "python",
   "pygments_lexer": "ipython3",
   "version": "3.11.5"
  }
 },
 "nbformat": 4,
 "nbformat_minor": 2
}
