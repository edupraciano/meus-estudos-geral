{
 "cells": [
  {
   "cell_type": "code",
   "execution_count": 36,
   "metadata": {},
   "outputs": [
    {
     "name": "stdout",
     "output_type": "stream",
     "text": [
      "O primeiro termo da PA é: 1\n",
      "Essa PA terá: 10 termos.\n",
      "A razão desta PA é: 2\n",
      "Então com estes dados, a P.A. fica assim:\n",
      "\n",
      "1 -> 3 -> 5 -> 7 -> 9 -> 11 -> 13 -> 15 -> 17 -> 19 -> FIM da P.A.\n"
     ]
    }
   ],
   "source": [
    "\"\"\"\n",
    "Ex.61 Refaça o DESAFIO 51, lendo o primeiro termo e a razão de uma PA, mostrando os 10 primeiros termos da progressão usando a estrutura while.\n",
    "\"\"\"\n",
    "\n",
    "primeiro = int(input('Digite o primeiro termo da PA: '))\n",
    "qtdeTermo = int(input('Quantos termos terá essa PA? '))\n",
    "razao = int(input('Digite a razão da PA: '))\n",
    "termo = primeiro\n",
    "\n",
    "cont = 1\n",
    "print(f'O primeiro termo da PA é: {primeiro}')\n",
    "print(f'Essa PA terá: {termo} termos.')\n",
    "print(f'A razão desta PA é: {razao}')\n",
    "print('Então com estes dados, a P.A. fica assim:')\n",
    "print('')\n",
    "\n",
    "while cont < qtdeTermo:\n",
    "    \n",
    "    print(termo, end=' -> ')\n",
    "    termo += razao\n",
    "    cont += 1\n",
    "\n",
    "print('FIM da P.A.')"
   ]
  }
 ],
 "metadata": {
  "kernelspec": {
   "display_name": "base",
   "language": "python",
   "name": "python3"
  },
  "language_info": {
   "codemirror_mode": {
    "name": "ipython",
    "version": 3
   },
   "file_extension": ".py",
   "mimetype": "text/x-python",
   "name": "python",
   "nbconvert_exporter": "python",
   "pygments_lexer": "ipython3",
   "version": "3.11.5"
  }
 },
 "nbformat": 4,
 "nbformat_minor": 2
}
