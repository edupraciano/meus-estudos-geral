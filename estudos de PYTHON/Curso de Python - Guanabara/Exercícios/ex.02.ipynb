{
 "cells": [
  {
   "cell_type": "code",
   "execution_count": null,
   "metadata": {},
   "outputs": [
    {
     "name": "stdout",
     "output_type": "stream",
     "text": [
      "Para este número, se você quiser arredondar para cima o resultado será: 5\n",
      "Para este número, se você quiser arredondar para baixo o resultado será: 4\n"
     ]
    }
   ],
   "source": [
    "# Ex. 01\n",
    "import math\n",
    "numero = float(input('Entre com um número'))\n",
    "print(' >> Para este número, se você quiser arredondar para cima o resultado será: ', end='')\n",
    "print(math.ceil(numero))\n",
    "\n",
    "print(' >> Para este número, se você quiser arredondar para baixo o resultado será: ' , end='')\n",
    "print(math.floor(numero))\n",
    "\n"
   ]
  },
  {
   "cell_type": "code",
   "execution_count": 131,
   "metadata": {},
   "outputs": [
    {
     "name": "stdout",
     "output_type": "stream",
     "text": [
      "Para os catetos 4 e 5 que foram digitados, 6 é o valor da Hipotenusa.\n"
     ]
    }
   ],
   "source": [
    "# Ex. 02\n",
    "catOpo = float(input('Digite o valor do cateto oposto.'))\n",
    "catAdj = float(input('Digite o valor do cateto adjacente.'))\n",
    "hipotenusa = math.hypot(catOpo, catAdj,)\n",
    "\n",
    "print('Para os catetos {:.0f} e {:.0f} que foram digitados, {:.0f} é o valor da Hipotenusa.' . format(catOpo, catAdj, hipotenusa))\n",
    "\n"
   ]
  },
  {
   "cell_type": "code",
   "execution_count": null,
   "metadata": {},
   "outputs": [
    {
     "name": "stdout",
     "output_type": "stream",
     "text": [
      "Para este angulo, 0.00 é o seu seno, 1.00 é o seu cosseno e 0.00 é a sua tangente.\n"
     ]
    }
   ],
   "source": [
    "# Ex. 03\n",
    "angulo = float(input('Entre com o ângulo.'))\n",
    "sen = math.sin(angulo)\n",
    "cos = math.cos(angulo)\n",
    "tg = math.tan(angulo)\n",
    "\n",
    "print('Para este angulo, {:.2f} é o seu seno, {:.2f} é o seu cosseno e {:.2f} é a sua tangente.' . format(sen, cos, tg))"
   ]
  },
  {
   "cell_type": "code",
   "execution_count": 130,
   "metadata": {},
   "outputs": [
    {
     "name": "stdout",
     "output_type": "stream",
     "text": [
      "Estes eram os alunos que irão participar do sorteio: ['Pedro', 'Maria', 'Lucas', 'Marina']. Após o sorteio, o aluno escolhido foi: \"Marina\". \n",
      "Que corresponde ao aluno na posição 4 da lista do sorteio.\n"
     ]
    }
   ],
   "source": [
    "# EX. 04\n",
    "import random\n",
    "\n",
    "listaDeAlunos = ['Pedro', 'Maria', 'Lucas', 'Marina']\n",
    "sorteado = random.choice(listaDeAlunos)\n",
    "ordem = listaDeAlunos.index(sorteado) + 1\n",
    "print(f'Estes eram os alunos que irão participar do sorteio: {listaDeAlunos}. Após o sorteio, o aluno escolhido foi: \"{sorteado}\". \\nQue corresponde ao aluno na posição {ordem} da lista do sorteio.')\n"
   ]
  },
  {
   "cell_type": "code",
   "execution_count": null,
   "metadata": {},
   "outputs": [],
   "source": [
    "#Ex. 22\n",
    "nome = input('Digite o seu Nome completo')\n",
    "maiúsculas = nome.upper()\n",
    "minúsculas = nome.lower()\n",
    "totalSemEspaços = len(nome.strip())\n",
    "primeiroNome = nome.split()[0]\n",
    "tamanhoPrimeiroNome = len(nome.split()[0])\n",
    "\n",
    "print('Seu nome com todas as letras Maiúsculas é: {}' . format(maiúsculas))\n",
    "print('Seu nome com todas as letras Minúsculas é: {}' . format(minúsculas))\n",
    "print('Seu nome sem nenhum espaço tem ao todo {} caráteres.' . format(totalSemEspaços))\n",
    "print('Seu primeiro nome {} tem {} letras.' . format(primeiroNome, tamanhoPrimeiroNome ))"
   ]
  },
  {
   "cell_type": "code",
   "execution_count": 4,
   "metadata": {},
   "outputs": [
    {
     "name": "stdout",
     "output_type": "stream",
     "text": [
      "O número escolhido foi:2023. \n",
      "Sua unidade é: 3, \n",
      "sua dezena é: 2, \n",
      "sua centena é: 0 \n",
      "e seu milhar é: 2\n"
     ]
    }
   ],
   "source": [
    "numero = int(input('Digite um número entre 1 e 9999'))\n",
    "numeroEmString = str(numero)\n",
    "unidade = numeroEmString[3]\n",
    "dezena = numeroEmString[2]\n",
    "centena = numeroEmString[1]\n",
    "milhar = numeroEmString[0]\n",
    "\n",
    "print('O número escolhido foi: {}. \\nSua unidade é: {}, \\nsua dezena é: {}, \\nsua centena é: {} \\ne seu milhar é: {}'.format(numero, unidade, dezena, centena, milhar))\n"
   ]
  },
  {
   "cell_type": "code",
   "execution_count": 13,
   "metadata": {},
   "outputs": [
    {
     "name": "stdout",
     "output_type": "stream",
     "text": [
      "False\n"
     ]
    }
   ],
   "source": [
    "cidade = input('Escreva uma Cidade')\n",
    "primeiraPalavra = cidade.split()[0]\n",
    "\n",
    "if primeiraPalavra == 'Santo':\n",
    "    print(True)\n",
    "else:\n",
    "    print(False)\n",
    "\n"
   ]
  },
  {
   "cell_type": "code",
   "execution_count": 99,
   "metadata": {},
   "outputs": [
    {
     "name": "stdout",
     "output_type": "stream",
     "text": [
      "3\n",
      "Não foi dessa vez, infelizmente o número que vc escolheu foi 4 e o número do computador escolheu era 3\n"
     ]
    }
   ],
   "source": [
    "import random\n",
    "numeroAleatorio = random.randrange(1,6)\n",
    "print(numeroAleatorio)\n",
    "\n",
    "tentativa = int(input('Escolha um número entre 1 e 5'))\n",
    "\n",
    "if tentativa == numeroAleatorio:\n",
    "    print('Parabéns, você acertou. O número escolhido pelo Computador era {} e você acertou.'.format(numeroAleatorio))\n",
    "else:\n",
    "    print('Não foi dessa vez, infelizmente o número que vc escolheu foi {} e o número do computador escolheu era {}'.format(tentativa, numeroAleatorio))\n"
   ]
  }
 ],
 "metadata": {
  "kernelspec": {
   "display_name": "base",
   "language": "python",
   "name": "python3"
  },
  "language_info": {
   "codemirror_mode": {
    "name": "ipython",
    "version": 3
   },
   "file_extension": ".py",
   "mimetype": "text/x-python",
   "name": "python",
   "nbconvert_exporter": "python",
   "pygments_lexer": "ipython3",
   "version": "3.11.5"
  }
 },
 "nbformat": 4,
 "nbformat_minor": 2
}
