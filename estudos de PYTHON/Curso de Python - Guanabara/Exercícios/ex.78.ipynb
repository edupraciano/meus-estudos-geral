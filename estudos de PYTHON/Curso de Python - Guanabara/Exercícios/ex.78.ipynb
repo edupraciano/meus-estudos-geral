{
 "cells": [
  {
   "cell_type": "code",
   "execution_count": 26,
   "metadata": {},
   "outputs": [
    {
     "name": "stdout",
     "output_type": "stream",
     "text": [
      "Digite um número válido.\n",
      "Digite um número válido.\n",
      "A lista formada foi [5, 3, 9, 5, 8]\n",
      "O maior valor digitado foi 9 e ele apareceu nas posições 3... \n",
      "O Menor valor digitado foi 3 e ele apareceu nas posições 2... "
     ]
    }
   ],
   "source": [
    "\"\"\"\n",
    "Ex.78 Faça um programa que leia 5 valores numéricos e guarde-os em uma lista. No final, mostre qual foi o maior e o menor valor digitado e as suas respectivas posições na lista.\n",
    "\"\"\"\n",
    "lista = []\n",
    "maior = menor = 0\n",
    "\n",
    "for c in range(0, 5):\n",
    "\n",
    "    while True:\n",
    "\n",
    "        entrada = input('Digite um número: ')\n",
    "\n",
    "        if entrada.isdigit():\n",
    "            num = int(entrada)\n",
    "            lista.append(num)\n",
    "\n",
    "            if c == 0:\n",
    "                maior = menor = num\n",
    "            else:\n",
    "                if num > maior:\n",
    "                    maior = num\n",
    "                if num < menor:\n",
    "                    menor = num\n",
    "            break\n",
    "        else:\n",
    "            print('Digite um número válido.')\n",
    "\n",
    "print(f'A lista formada foi {lista}')\n",
    "print(f'O maior valor digitado foi {maior} e ele apareceu nas posições ', end = '')\n",
    "for i, v in enumerate(lista, start=1):\n",
    "    if v == maior:\n",
    "        print(f'{i}... ', end = '')\n",
    "print()\n",
    "print(f'O Menor valor digitado foi {menor} e ele apareceu nas posições ', end = '')\n",
    "for i, v in enumerate(lista, start=1):\n",
    "    if v == menor:\n",
    "        print(f'{i}... ', end = '')\n",
    "\n",
    "\n"
   ]
  }
 ],
 "metadata": {
  "kernelspec": {
   "display_name": "base",
   "language": "python",
   "name": "python3"
  },
  "language_info": {
   "codemirror_mode": {
    "name": "ipython",
    "version": 3
   },
   "file_extension": ".py",
   "mimetype": "text/x-python",
   "name": "python",
   "nbconvert_exporter": "python",
   "pygments_lexer": "ipython3",
   "version": "3.11.5"
  }
 },
 "nbformat": 4,
 "nbformat_minor": 2
}
