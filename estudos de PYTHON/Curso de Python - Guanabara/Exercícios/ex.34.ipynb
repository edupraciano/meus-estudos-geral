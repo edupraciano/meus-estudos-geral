{
 "cells": [
  {
   "cell_type": "code",
   "execution_count": 13,
   "metadata": {},
   "outputs": [
    {
     "name": "stdout",
     "output_type": "stream",
     "text": [
      "Seu novo salário será: 115.0. O que representa um aumento de R$ 15.0\n"
     ]
    }
   ],
   "source": [
    "'''\n",
    "Ex.34 Escreva um programa que pergunte o salário de um funcionário e calcule o valor do seu aumento.\n",
    "Para salários superiores a R$ 1.250,00, calcule um aumento de 10%.\n",
    "Para os inferiores ou iguais, o aumento é de R$ 15%.\n",
    "'''\n",
    "salario = float(input('Digite o seu salário'))\n",
    "if salario > 1250:\n",
    "    aumento = salario * 0.10\n",
    "    novoSalario = salario + aumento\n",
    "    print('Seu novo salário será: {}. O que representa um aumento de R$ {}'.format(novoSalario, aumento))\n",
    "else:\n",
    "    aumento = salario * 0.15\n",
    "    novoSalario = salario + aumento\n",
    "    print('Seu novo salário será: {}. O que representa um aumento de R$ {}'.format(novoSalario, aumento))"
   ]
  }
 ],
 "metadata": {
  "kernelspec": {
   "display_name": "base",
   "language": "python",
   "name": "python3"
  },
  "language_info": {
   "codemirror_mode": {
    "name": "ipython",
    "version": 3
   },
   "file_extension": ".py",
   "mimetype": "text/x-python",
   "name": "python",
   "nbconvert_exporter": "python",
   "pygments_lexer": "ipython3",
   "version": "3.11.5"
  }
 },
 "nbformat": 4,
 "nbformat_minor": 2
}
