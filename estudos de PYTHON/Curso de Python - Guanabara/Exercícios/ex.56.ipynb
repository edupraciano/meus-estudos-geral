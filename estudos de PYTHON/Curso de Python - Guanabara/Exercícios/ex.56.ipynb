{
 "cells": [
  {
   "cell_type": "code",
   "execution_count": 1,
   "metadata": {},
   "outputs": [
    {
     "name": "stdout",
     "output_type": "stream",
     "text": [
      "------ 1ª pessoa ------\n",
      "Nome: EDU\n",
      "Idade: 45\n",
      "Sexo: D\n",
      "\n",
      "Escolha apenas entre [M] ou [F].\n",
      "Escolha apenas entre [M] ou [F].\n",
      "------ 2ª pessoa ------\n",
      "Nome: MARIA\n",
      "Idade: 65\n",
      "Sexo: E\n",
      "\n",
      "Escolha apenas entre [M] ou [F].\n",
      "------ 3ª pessoa ------\n",
      "Nome: NICOLE\n",
      "Idade: 12\n",
      "Sexo: F\n",
      "\n",
      "------ 4ª pessoa ------\n",
      "Nome: NICILAS\n",
      "Idade: 23\n",
      "Sexo: F\n",
      "\n",
      "A Média das idades do grupo é: 36.25\n",
      "A idade do homem mais velho é 45 anos e o seu nome é: EDU.\n",
      "Existem 1 mulheres nesse grupo com menos de 20 anos de idade, seu nome é NICOLE e ela tem 12 anos de idade\n"
     ]
    }
   ],
   "source": [
    "\"\"\"\n",
    "Ex.56 Desenvolva um programa que leia o nome, idade e sexo de 4 pessoas. No final do programa, mostre: a média de idade do grupo, qual é o nome do homem mais velho e quantas mulheres têm menos de 20 anos.\n",
    "\"\"\"\n",
    "somaIdade = 0\n",
    "idadeHomemMaisVelho = 0\n",
    "nomeHomemMaisVelho = ''\n",
    "nomeMulherMenorDe20 = ''\n",
    "qtdeMulheresMenorDe20 = 0\n",
    "idadeMulherMenorDe20 = 0\n",
    "\n",
    "for i in range(1, 5):\n",
    "    nome = str(input('Qual o Nome da {}ª pessoa? '.format(i)).strip().upper())\n",
    "    idade = int(input('Qual a idade da {}ª pessoa? '.format(i)))\n",
    "    sexo = str(input('Qual o Sexo da {}ª pessoa? (M/F) '.format(i)).strip().upper())\n",
    "\n",
    "    print('------ {}ª pessoa ------'.format(i))\n",
    "    print('Nome: {}'.format(nome))\n",
    "    print('Idade: {}'.format(idade))\n",
    "    print('Sexo: {}'.format(sexo))\n",
    "    print('')\n",
    "\n",
    "    somaIdade += idade\n",
    "\n",
    "    while sexo not in ['F', 'M']:\n",
    "        print('Escolha apenas entre [M] ou [F].')\n",
    "        sexo = str(input('Qual o Sexo da {}ª pessoa? (M/F) '.format(i)).strip().upper())\n",
    "\n",
    "    if sexo == 'M':\n",
    "        if i == 1:\n",
    "            idadeHomemMaisVelho = idade\n",
    "            nomeHomemMaisVelho = nome\n",
    "        if idade > idadeHomemMaisVelho:\n",
    "            idadeHomemMaisVelho = idade\n",
    "            nomeHomemMaisVelho = nome\n",
    "\n",
    "    if sexo == 'F' and idade < 20:\n",
    "        qtdeMulheresMenorDe20 += 1\n",
    "        nomeMulherMenorDe20 = nome\n",
    "        idadeMulhermenorDe20 = idade\n",
    "\n",
    "media = somaIdade / 4\n",
    "\n",
    "print('A Média das idades do grupo é: {}'.format(media))\n",
    "print('A idade do homem mais velho é {} anos e o seu nome é: {}.'.format(idadeHomemMaisVelho, nomeHomemMaisVelho))\n",
    "print('Existem {} mulheres nesse grupo com menos de 20 anos de idade, seu nome é {} e ela tem {} anos de idade'.format(qtdeMulheresMenorDe20, nomeMulherMenorDe20, idadeMulhermenorDe20))\n"
   ]
  }
 ],
 "metadata": {
  "kernelspec": {
   "display_name": "base",
   "language": "python",
   "name": "python3"
  },
  "language_info": {
   "codemirror_mode": {
    "name": "ipython",
    "version": 3
   },
   "file_extension": ".py",
   "mimetype": "text/x-python",
   "name": "python",
   "nbconvert_exporter": "python",
   "pygments_lexer": "ipython3",
   "version": "3.11.5"
  }
 },
 "nbformat": 4,
 "nbformat_minor": 2
}
