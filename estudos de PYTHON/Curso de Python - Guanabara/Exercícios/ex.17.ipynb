{
 "cells": [
  {
   "cell_type": "code",
   "execution_count": 1,
   "metadata": {},
   "outputs": [
    {
     "name": "stdout",
     "output_type": "stream",
     "text": [
      "A hi dos números 3.0 e 4.0 é 5.00.\n"
     ]
    }
   ],
   "source": [
    "# Ex.17\n",
    "# Faça um programa que leia o comprimento do cateto oposto (co) e do cateto adjacente (ca) de um triângulo retângulo, calcule e mostre o comprimento da hipotenusa (h).\n",
    "\n",
    "from math import hypot\n",
    "\n",
    "co = float(input(\"Cateto oposto: \\n\"))\n",
    "ca = float(input(\"Cateto adjacente: \\n\"))\n",
    "h = hypot(co, ca)\n",
    "\n",
    "print(\"A hipotenusa dos números {} e {} é {:.2f}.\".format(co, ca, h))\n",
    "\n",
    "\n"
   ]
  }
 ],
 "metadata": {
  "kernelspec": {
   "display_name": "base",
   "language": "python",
   "name": "python3"
  },
  "language_info": {
   "codemirror_mode": {
    "name": "ipython",
    "version": 3
   },
   "file_extension": ".py",
   "mimetype": "text/x-python",
   "name": "python",
   "nbconvert_exporter": "python",
   "pygments_lexer": "ipython3",
   "version": "3.11.5"
  }
 },
 "nbformat": 4,
 "nbformat_minor": 2
}
