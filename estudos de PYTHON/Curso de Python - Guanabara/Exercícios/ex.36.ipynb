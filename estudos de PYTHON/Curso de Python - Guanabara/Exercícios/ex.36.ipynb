{
 "cells": [
  {
   "cell_type": "code",
   "execution_count": 5,
   "metadata": {},
   "outputs": [
    {
     "name": "stdout",
     "output_type": "stream",
     "text": [
      "O valor da casa é R$ 200000.00\n",
      "O seu salário é R$ 12000.00\n",
      "Você pretende pagar a casa em 5 anos.\n",
      "O valor da prestação fica em R$ 3333.33\n",
      "Parabéns, vocâ acaba de conseguir o financiamento para a compra de sua casa.\n"
     ]
    }
   ],
   "source": [
    "'''\n",
    "Ex.36 Escreva um programa para aprovar o empréstimo bancário\n",
    "para a compra de uma casa.\n",
    "O programa vai perguntar o valor da casa, o salário do comprador e em quantos\n",
    "anos ele vai pagar\n",
    "\n",
    "Calcule o valor da prestação mensal,\n",
    "sabendo que ela não pode exceder 30% do salário\n",
    "ou então o empréstimo será negado\n",
    "'''         \n",
    "\n",
    "valorDaCasa = float(input('Qual o Valor da casa?'))\n",
    "salario = float(input('Qual é o seu Salario ?'))\n",
    "anos = int(input('Quantos anos será paago a casa?'))\n",
    "valorMaximo = salario * 0.30\n",
    "\n",
    "prestação = valorDaCasa / (anos * 12)\n",
    "\n",
    "print('O valor da casa é R$ {:.2f}'.format(valorDaCasa))\n",
    "print('O seu salário é R$ {:.2f}'.format(salario))\n",
    "print('Você pretende pagar a casa em {} anos.'.format(anos))\n",
    "print('O valor da prestação fica em R$ {:.2f}'.format(prestação))\n",
    "\n",
    "if prestação > valorMaximo:\n",
    "    print('Infelizmente não poderemos fornecer o crédito, pois as parcelas comprometeriam mais do que 30% do seu salario. \\nO valor máximo para suas parcelas é de R$ {:.2f}'.format(valorMaximo))\n",
    "else:\n",
    "    print('Parabéns, vocâ acaba de conseguir o financiamento para a compra de sua casa.')"
   ]
  }
 ],
 "metadata": {
  "kernelspec": {
   "display_name": "base",
   "language": "python",
   "name": "python3"
  },
  "language_info": {
   "codemirror_mode": {
    "name": "ipython",
    "version": 3
   },
   "file_extension": ".py",
   "mimetype": "text/x-python",
   "name": "python",
   "nbconvert_exporter": "python",
   "pygments_lexer": "ipython3",
   "version": "3.11.5"
  }
 },
 "nbformat": 4,
 "nbformat_minor": 2
}
