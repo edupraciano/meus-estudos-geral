{
 "cells": [
  {
   "cell_type": "code",
   "execution_count": 5,
   "metadata": {},
   "outputs": [
    {
     "name": "stdout",
     "output_type": "stream",
     "text": [
      "Com esses NÃO lado é possível formar um tirânulo\n"
     ]
    }
   ],
   "source": [
    "'''\n",
    "Ex.36 Desenvolva um programa que leia o comprimento de três retas\n",
    "e diga ao usuário se elas podem ou não formar um triângulo\n",
    "'''\n",
    "\n",
    "lado1 = float(input('Digite o comprimento do primeiro lado:'))\n",
    "lado2 = float(input('Digite o comprimento do segundo lado:'))\n",
    "lado3 = float(input('Digite o comprimento do terceiro lado:'))\n",
    "\n",
    "if(lado1 < lado2 + lado3) and (lado2 < lado1 + lado3) and (lado3 < lado1 + lado2):\n",
    "    print('Com esses lado é possível formar um tirânulo')\n",
    "else:\n",
    "    print('Com esses NÃO lado é possível formar um tirânulo')"
   ]
  }
 ],
 "metadata": {
  "kernelspec": {
   "display_name": "base",
   "language": "python",
   "name": "python3"
  },
  "language_info": {
   "codemirror_mode": {
    "name": "ipython",
    "version": 3
   },
   "file_extension": ".py",
   "mimetype": "text/x-python",
   "name": "python",
   "nbconvert_exporter": "python",
   "pygments_lexer": "ipython3",
   "version": "3.11.5"
  }
 },
 "nbformat": 4,
 "nbformat_minor": 2
}
