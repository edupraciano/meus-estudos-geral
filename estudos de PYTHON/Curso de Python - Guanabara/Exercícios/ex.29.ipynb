{
 "cells": [
  {
   "cell_type": "code",
   "execution_count": 3,
   "metadata": {},
   "outputs": [
    {
     "name": "stdout",
     "output_type": "stream",
     "text": [
      "Voce foi multado! \n",
      "Sua multa é de R$ 280.0 ,pois você excedeu a velocidade máxima (80.0 Km/h) em 40.0 Km/h\n"
     ]
    }
   ],
   "source": [
    "'''\n",
    "Ex.29 Escreva um programa que leia a velocidade de um carro.\n",
    "Se ele ultrapassar 80km/h, mostre uma mensagem dizendo que ele foi multado.\n",
    "A multa vai custar R$7,00 por cada Km acima do limite.\n",
    "'''\n",
    "vel = float(input('Digite a sua velocidade'))\n",
    "diferença = vel - 80\n",
    "valor = diferença * 7\n",
    "\n",
    "if vel > 80:\n",
    "    print('Voce foi multado! \\nSua multa é de R$ {}, pois você excedeu a velocidade máxima (80.0 Km/h) em {} Km/h'.format(valor, diferença))\n"
   ]
  }
 ],
 "metadata": {
  "kernelspec": {
   "display_name": "base",
   "language": "python",
   "name": "python3"
  },
  "language_info": {
   "codemirror_mode": {
    "name": "ipython",
    "version": 3
   },
   "file_extension": ".py",
   "mimetype": "text/x-python",
   "name": "python",
   "nbconvert_exporter": "python",
   "pygments_lexer": "ipython3",
   "version": "3.11.5"
  }
 },
 "nbformat": 4,
 "nbformat_minor": 2
}
