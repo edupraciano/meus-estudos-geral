{
 "cells": [
  {
   "cell_type": "code",
   "execution_count": 4,
   "metadata": {},
   "outputs": [
    {
     "name": "stdout",
     "output_type": "stream",
     "text": [
      "Digite a forma de pagamento correta, 1, 2 ou 3.\n"
     ]
    }
   ],
   "source": [
    "\"\"\"\n",
    "Ex.44 Elabore um programa que calcule o valor a ser pago por um produto,\n",
    "considerando o seu preço normal, e condição de pagamento:\n",
    "\n",
    "- à vista dinheiro/cheque: 10% de desconto\n",
    "- à vista no cartão: 5% de desconto\n",
    "- em até 2x no cartão: preço normal\n",
    "- em 3x ou mais no cartão: 20% de juros\n",
    "\"\"\"\n",
    "precoOriginal = float(input('Qual é o preço do produto?'))\n",
    "formaDePagamento = int(input('Qual a forma de pagamento? Digite \"1\" para à Vista, \"2\" para 2X no cartão ou \"3\" para 3X ou mais no cartão'))\n",
    "descontoAVista = precoOriginal * 0.10\n",
    "precoAVista = precoOriginal - descontoAVista\n",
    "precoEm2x = precoOriginal\n",
    "aumento = precoOriginal * 0.20\n",
    "precoEm3x = precoOriginal + aumento\n",
    "\n",
    "if formaDePagamento == 1:\n",
    "    print('Este produto recebeu um DESCONTO de R$ {:.2f} e você pagará por ele: R$ {:.2f}.'.format(descontoAVista, precoAVista))\n",
    "elif formaDePagamento == 2:\n",
    "    print('Este produto NÃO recebeu nenhum desconto e você pagará por ele: R$ {:.2f}.'.format(precoOriginal))\n",
    "elif formaDePagamento == 3:\n",
    "    print('Este produto sofreu um AUMENTO de R$ {:.2f} e você pagará por ele: R$ {:.2f}.'.format(aumento, precoEm3x))\n",
    "else:\n",
    "    print('Digite a forma de pagamento correta, 1, 2 ou 3.')"
   ]
  }
 ],
 "metadata": {
  "kernelspec": {
   "display_name": "base",
   "language": "python",
   "name": "python3"
  },
  "language_info": {
   "codemirror_mode": {
    "name": "ipython",
    "version": 3
   },
   "file_extension": ".py",
   "mimetype": "text/x-python",
   "name": "python",
   "nbconvert_exporter": "python",
   "pygments_lexer": "ipython3",
   "version": "3.11.5"
  }
 },
 "nbformat": 4,
 "nbformat_minor": 2
}
