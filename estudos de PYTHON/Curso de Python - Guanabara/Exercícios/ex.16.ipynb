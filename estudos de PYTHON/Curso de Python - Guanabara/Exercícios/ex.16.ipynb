{
 "cells": [
  {
   "cell_type": "code",
   "execution_count": 4,
   "metadata": {},
   "outputs": [
    {
     "name": "stdout",
     "output_type": "stream",
     "text": [
      "7 é a parte inteira desse número\n"
     ]
    }
   ],
   "source": [
    "# Ex.16\n",
    "# Crie um programa que leia um número real qualquer pelo teclado e mostre na tela a sua porção inteira.\n",
    "from math import trunc\n",
    "num = float(input('Diigite um número real'))\n",
    "print('{} é a parte inteira desse número'.format(math.trunc(num)))\n",
    "\n",
    "\n"
   ]
  }
 ],
 "metadata": {
  "kernelspec": {
   "display_name": "base",
   "language": "python",
   "name": "python3"
  },
  "language_info": {
   "codemirror_mode": {
    "name": "ipython",
    "version": 3
   },
   "file_extension": ".py",
   "mimetype": "text/x-python",
   "name": "python",
   "nbconvert_exporter": "python",
   "pygments_lexer": "ipython3",
   "version": "3.11.5"
  }
 },
 "nbformat": 4,
 "nbformat_minor": 2
}
