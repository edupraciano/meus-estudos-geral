{
 "cells": [
  {
   "cell_type": "code",
   "execution_count": null,
   "metadata": {},
   "outputs": [],
   "source": [
    "# Ex.14\n",
    "# Conversor de temperaturas: escreva um programa que converta uma temperatura digitada em ºC para ºF\n",
    "\n",
    "celsius = float(input(\"Digite a temperatura em Celsius: \\n\"))\n",
    "farenheit = ((1.8 * celsius) + 32)\n",
    "print(\"{}ºC correspondem a {:.1f}ºF.\".format(celsius, farenheit))\n",
    "\n"
   ]
  }
 ],
 "metadata": {
  "kernelspec": {
   "display_name": "base",
   "language": "python",
   "name": "python3"
  },
  "language_info": {
   "codemirror_mode": {
    "name": "ipython",
    "version": 3
   },
   "file_extension": ".py",
   "mimetype": "text/x-python",
   "name": "python",
   "nbconvert_exporter": "python",
   "pygments_lexer": "ipython3",
   "version": "3.11.5"
  }
 },
 "nbformat": 4,
 "nbformat_minor": 2
}
