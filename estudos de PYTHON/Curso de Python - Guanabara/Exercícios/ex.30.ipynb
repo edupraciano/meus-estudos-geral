{
 "cells": [
  {
   "cell_type": "code",
   "execution_count": 2,
   "metadata": {},
   "outputs": [
    {
     "name": "stdout",
     "output_type": "stream",
     "text": [
      "Esse número é para\n"
     ]
    }
   ],
   "source": [
    "'''\n",
    "Ex.30 Crie um programa que leia um número inteiro e mostre na tela se ele é PAR ou ÍMPAR.\n",
    "'''\n",
    "\n",
    "num = int(input('Digite um número inteiro'))\n",
    "\n",
    "if num%2 == 0:\n",
    "    print('Esse número é para')\n",
    "else:\n",
    "    print('Esse número é impar')"
   ]
  }
 ],
 "metadata": {
  "kernelspec": {
   "display_name": "base",
   "language": "python",
   "name": "python3"
  },
  "language_info": {
   "codemirror_mode": {
    "name": "ipython",
    "version": 3
   },
   "file_extension": ".py",
   "mimetype": "text/x-python",
   "name": "python",
   "nbconvert_exporter": "python",
   "pygments_lexer": "ipython3",
   "version": "3.11.5"
  }
 },
 "nbformat": 4,
 "nbformat_minor": 2
}
